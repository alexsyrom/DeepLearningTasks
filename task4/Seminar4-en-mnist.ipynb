{
 "cells": [
  {
   "cell_type": "markdown",
   "metadata": {
    "deletable": true,
    "editable": true
   },
   "source": [
    "# Theano, Lasagne\n",
    "and why they matter\n",
    "\n",
    "\n",
    "### got no lasagne?\n",
    "Install the __bleeding edge__ version from here: http://lasagne.readthedocs.org/en/latest/user/installation.html"
   ]
  },
  {
   "cell_type": "markdown",
   "metadata": {
    "deletable": true,
    "editable": true
   },
   "source": [
    "# Warming up\n",
    "* Implement a function that computes the sum of squares of numbers from 0 to N\n",
    "* Use numpy or python\n",
    "* An array of numbers 0 to N - numpy.arange(N)"
   ]
  },
  {
   "cell_type": "code",
   "execution_count": 1,
   "metadata": {
    "collapsed": false,
    "deletable": true,
    "editable": true
   },
   "outputs": [],
   "source": [
    "import numpy as np\n",
    "def sum_squares(N):\n",
    "    return (np.arange(N) ** 2).sum()"
   ]
  },
  {
   "cell_type": "code",
   "execution_count": 2,
   "metadata": {
    "collapsed": false,
    "deletable": true,
    "editable": true
   },
   "outputs": [
    {
     "name": "stdout",
     "output_type": "stream",
     "text": [
      "CPU times: user 308 ms, sys: 404 ms, total: 712 ms\n",
      "Wall time: 709 ms\n"
     ]
    },
    {
     "data": {
      "text/plain": [
       "662921401752298880"
      ]
     },
     "execution_count": 2,
     "metadata": {},
     "output_type": "execute_result"
    }
   ],
   "source": [
    "%%time\n",
    "sum_squares(10**8)"
   ]
  },
  {
   "cell_type": "markdown",
   "metadata": {
    "deletable": true,
    "editable": true
   },
   "source": [
    "# theano teaser\n",
    "\n",
    "Doing the very same thing"
   ]
  },
  {
   "cell_type": "code",
   "execution_count": 3,
   "metadata": {
    "collapsed": false,
    "deletable": true,
    "editable": true
   },
   "outputs": [],
   "source": [
    "import theano\n",
    "import theano.tensor as T"
   ]
  },
  {
   "cell_type": "code",
   "execution_count": 4,
   "metadata": {
    "collapsed": false,
    "deletable": true,
    "editable": true
   },
   "outputs": [],
   "source": [
    "\n",
    "\n",
    "#I gonna be function parameter\n",
    "N = T.scalar(\"a dimension\",dtype='int32')\n",
    "\n",
    "\n",
    "#i am a recipe on how to produce sum of squares of arange of N given N\n",
    "result = (T.arange(N)**2).sum()\n",
    "\n",
    "#Compiling the recipe of computing \"result\" given N\n",
    "sum_function = theano.function(inputs = [N],outputs=result)"
   ]
  },
  {
   "cell_type": "code",
   "execution_count": 5,
   "metadata": {
    "collapsed": false,
    "deletable": true,
    "editable": true
   },
   "outputs": [
    {
     "name": "stdout",
     "output_type": "stream",
     "text": [
      "CPU times: user 348 ms, sys: 168 ms, total: 516 ms\n",
      "Wall time: 406 ms\n"
     ]
    },
    {
     "data": {
      "text/plain": [
       "array(662921401752298880)"
      ]
     },
     "execution_count": 5,
     "metadata": {},
     "output_type": "execute_result"
    }
   ],
   "source": [
    "%%time\n",
    "sum_function(10**8)"
   ]
  },
  {
   "cell_type": "markdown",
   "metadata": {
    "deletable": true,
    "editable": true
   },
   "source": [
    "# How does it work?\n",
    "* 1 You define inputs f your future function;\n",
    "* 2 You write a recipe for some transformation of inputs;\n",
    "* 3 You compile it;\n",
    "* You have just got a function!\n",
    "* The gobbledegooky version: you define a function as symbolic computation graph.\n",
    "\n",
    "\n",
    "* There are two main kinвs of entities: \"Inputs\" and \"Transformations\"\n",
    "* Both can be numbers, vectors, matrices, tensors, etc.\n",
    "* Both can be integers, floats of booleans (uint8) of various size.\n",
    "\n",
    "\n",
    "* An input is a placeholder for function parameters.\n",
    " * N from example above\n",
    "\n",
    "\n",
    "* Transformations are the recipes for computing something given inputs and transformation\n",
    " * (T.arange(N)^2).sum() are 3 sequential transformations of N\n",
    " * Doubles all functions of numpy vector syntax\n",
    " * You can almost always go with replacing \"np.function\" with \"T.function\" aka \"theano.tensor.function\"\n",
    "   * np.mean -> T.mean\n",
    "   * np.arange -> T.arange\n",
    "   * np.cumsum -> T.cumsum\n",
    "   * and so on.\n",
    "   * builtin operations also work that way\n",
    "   * np.arange(10).mean() -> T.arange(10).mean()\n",
    "   * Once upon a blue moon the functions have different names or locations (e.g. T.extra_ops)\n",
    "     * Ask us or google it\n",
    " \n",
    " \n",
    "Still confused? We gonna fix that."
   ]
  },
  {
   "cell_type": "code",
   "execution_count": 6,
   "metadata": {
    "collapsed": false,
    "deletable": true,
    "editable": true
   },
   "outputs": [],
   "source": [
    "#Inputs\n",
    "example_input_integer = T.scalar(\"scalar input\",dtype='float32')\n",
    "\n",
    "example_input_tensor = T.tensor4(\"four dimensional tensor input\") #dtype = theano.config.floatX by default\n",
    "#не бойся, тензор нам не пригодится\n",
    "\n",
    "\n",
    "\n",
    "input_vector = T.vector(\"my vector\", dtype='int32') # vector of integers\n"
   ]
  },
  {
   "cell_type": "code",
   "execution_count": 7,
   "metadata": {
    "collapsed": false,
    "deletable": true,
    "editable": true
   },
   "outputs": [],
   "source": [
    "#Transformations\n",
    "\n",
    "#transofrmation: elementwise multiplication\n",
    "double_the_vector = input_vector*2\n",
    "\n",
    "#elementwise cosine\n",
    "elementwise_cosine = T.cos(input_vector)\n",
    "\n",
    "#difference between squared vector and vector itself\n",
    "vector_squares = input_vector**2 - input_vector\n"
   ]
  },
  {
   "cell_type": "code",
   "execution_count": 8,
   "metadata": {
    "collapsed": false,
    "deletable": true,
    "editable": true
   },
   "outputs": [],
   "source": [
    "#Practice time:\n",
    "#create two vectors of size float32\n",
    "my_vector = T.vector(\"my vector\", dtype='float32')\n",
    "my_vector2 = T.vector(\"my vector 2\", dtype='float32')"
   ]
  },
  {
   "cell_type": "code",
   "execution_count": 9,
   "metadata": {
    "collapsed": false,
    "deletable": true,
    "editable": true
   },
   "outputs": [],
   "source": [
    "#Write a transformation(recipe):\n",
    "#(vec1)*(vec2) / (sin(vec1) +1)\n",
    "my_transformation = my_vector * my_vector2 / (T.sin(my_vector) + 1)"
   ]
  },
  {
   "cell_type": "code",
   "execution_count": 10,
   "metadata": {
    "collapsed": false,
    "deletable": true,
    "editable": true
   },
   "outputs": [
    {
     "name": "stdout",
     "output_type": "stream",
     "text": [
      "Elemwise{true_div,no_inplace}.0\n"
     ]
    }
   ],
   "source": [
    "print( my_transformation)\n",
    "#it's okay it aint a number"
   ]
  },
  {
   "cell_type": "code",
   "execution_count": 11,
   "metadata": {
    "collapsed": false,
    "deletable": true,
    "editable": true
   },
   "outputs": [
    {
     "name": "stdout",
     "output_type": "stream",
     "text": [
      "Elemwise{true_div,no_inplace} [id A] ''   \n",
      " |Elemwise{mul,no_inplace} [id B] ''   \n",
      " | |my vector [id C]\n",
      " | |my vector 2 [id D]\n",
      " |Elemwise{add,no_inplace} [id E] ''   \n",
      "   |Elemwise{sin,no_inplace} [id F] ''   \n",
      "   | |my vector [id C]\n",
      "   |InplaceDimShuffle{x} [id G] ''   \n",
      "     |TensorConstant{1} [id H]\n"
     ]
    }
   ],
   "source": [
    "#What's inside the transformation\n",
    "theano.printing.debugprint(my_transformation)"
   ]
  },
  {
   "cell_type": "markdown",
   "metadata": {
    "deletable": true,
    "editable": true
   },
   "source": [
    "# Compiling\n",
    "* So far we were using \"symbolic\" variables and transformations\n",
    " * Defining the recipe for computation, but not computing anything\n",
    "* To use the recipe, one should compile it"
   ]
  },
  {
   "cell_type": "code",
   "execution_count": 12,
   "metadata": {
    "collapsed": false,
    "deletable": true,
    "editable": true
   },
   "outputs": [],
   "source": [
    "inputs = [my_vector, my_vector2]\n",
    "outputs = [my_transformation]\n",
    "\n",
    "# The next lines compile a function that takes two vectors and computes your transformation\n",
    "my_function = theano.function(\n",
    "    inputs,outputs,\n",
    "    allow_input_downcast=True #automatic type casting for input parameters (e.g. float64 -> float32)\n",
    " )"
   ]
  },
  {
   "cell_type": "code",
   "execution_count": 13,
   "metadata": {
    "collapsed": false,
    "deletable": true,
    "editable": true
   },
   "outputs": [
    {
     "name": "stdout",
     "output_type": "stream",
     "text": [
      "using python lists:\n",
      "[array([  2.1721766 ,   5.23752832,  15.77397728], dtype=float32)]\n",
      "\n",
      "using numpy arrays:\n",
      "[array([   0.        ,    2.77555895,    5.47030783,   14.02131271,\n",
      "         89.5477066 ,  676.25805664,   47.183918  ,   24.4084301 ,\n",
      "         23.68156242,   38.24041748], dtype=float32)]\n"
     ]
    }
   ],
   "source": [
    "#using function with, lists:\n",
    "print(\"using python lists:\")\n",
    "print(my_function([1,2,3],[4,5,6]))\n",
    "print()\n",
    "\n",
    "#Or using numpy arrays:\n",
    "#btw, that 'float' dtype is casted to secong parameter dtype which is float32\n",
    "print(\"using numpy arrays:\")\n",
    "print(my_function(np.arange(10),\n",
    "                  np.linspace(5,6,10,dtype='float')))\n"
   ]
  },
  {
   "cell_type": "markdown",
   "metadata": {
    "deletable": true,
    "editable": true
   },
   "source": [
    "# Debugging\n",
    "* Compilation can take a while for big functions\n",
    "* To avoid waiting, one can evaluate transformations without compiling\n",
    "* Without compilation, the code runs slower, so consider reducing input size\n"
   ]
  },
  {
   "cell_type": "code",
   "execution_count": 14,
   "metadata": {
    "collapsed": false,
    "deletable": true,
    "editable": true
   },
   "outputs": [
    {
     "name": "stdout",
     "output_type": "stream",
     "text": [
      "[  2.1721766    5.23752832  15.77397728]\n",
      "add 2 vectors [ 5.  7.  9.]\n",
      "vector's shape: [3]\n"
     ]
    }
   ],
   "source": [
    "#a dictionary of inputs\n",
    "my_function_inputs = {\n",
    "    my_vector:[1,2,3],\n",
    "    my_vector2:[4,5,6]\n",
    "}\n",
    "\n",
    "# evaluate my_transformation\n",
    "# has to match with compiled function output\n",
    "print(my_transformation.eval(my_function_inputs))\n",
    "\n",
    "\n",
    "# can compute transformations on the fly\n",
    "print(\"add 2 vectors\", (my_vector + my_vector2).eval(my_function_inputs))\n",
    "\n",
    "#!WARNING! if your transformation only depends on some inputs,\n",
    "#do not provide the rest of them\n",
    "print(\"vector's shape:\", my_vector.shape.eval({\n",
    "        my_vector:[1,2,3]\n",
    "    }))\n"
   ]
  },
  {
   "cell_type": "markdown",
   "metadata": {
    "deletable": true,
    "editable": true
   },
   "source": [
    "* When debugging, it's usually a good idea to reduce the scale of your computation. E.g. if you train on batches of 128 objects, debug on 2-3.\n",
    "* If it's imperative that you run a large batch of data, consider compiling with mode='debug' instead"
   ]
  },
  {
   "cell_type": "markdown",
   "metadata": {
    "deletable": true,
    "editable": true
   },
   "source": [
    "# Your turn: Mean Squared Error (2 pts)"
   ]
  },
  {
   "cell_type": "code",
   "execution_count": 15,
   "metadata": {
    "collapsed": false,
    "deletable": true,
    "editable": true
   },
   "outputs": [],
   "source": [
    "# Quest #1 - implement a function that computes a mean squared error of two input vectors\n",
    "# Your function has to take 2 vectors and return a single number\n",
    "\n",
    "truth = T.vector('truth', dtype='float32')\n",
    "tested = T.vector('tested', dtype='float32')\n",
    "mse_transformation = ((truth - tested) ** 2).mean()\n",
    "\n",
    "compute_mse = theano.function(inputs=[truth, tested], outputs=[mse_transformation], allow_input_downcast=True)"
   ]
  },
  {
   "cell_type": "code",
   "execution_count": 16,
   "metadata": {
    "collapsed": false,
    "deletable": true,
    "editable": true
   },
   "outputs": [
    {
     "name": "stdout",
     "output_type": "stream",
     "text": [
      "All tests passed\n"
     ]
    }
   ],
   "source": [
    "# Tests\n",
    "from sklearn.metrics import mean_squared_error\n",
    "\n",
    "for n in [1,5,10,10**3]:\n",
    "    \n",
    "    elems = [np.arange(n),np.arange(n,0,-1), np.zeros(n),\n",
    "             np.ones(n),np.random.random(n),np.random.randint(100,size=n)]\n",
    "    \n",
    "    for el in elems:\n",
    "        for el_2 in elems:\n",
    "            true_mse = np.array(mean_squared_error(el,el_2))\n",
    "            my_mse = compute_mse(el,el_2)\n",
    "            if not np.allclose(true_mse,my_mse):\n",
    "                print ('Wrong result:')\n",
    "                print ('mse(%s,%s)'%(el,el_2))\n",
    "                print (\"should be: %f, but your function returned %f\"%(true_mse,my_mse))\n",
    "                raise ValueError(\"Что-то не так\")\n",
    "\n",
    "print (\"All tests passed\")\n",
    "            \n",
    "    "
   ]
  },
  {
   "cell_type": "markdown",
   "metadata": {
    "deletable": true,
    "editable": true
   },
   "source": [
    "# Shared variables\n",
    "\n",
    "* The inputs and transformations only exist when function is called\n",
    "\n",
    "* Shared variables always stay in memory like global variables\n",
    " * Shared variables can be included into a symbolic graph\n",
    " * They can be set and evaluated using special methods\n",
    "   * but they can't change value arbitrarily during symbolic graph computation\n",
    "   * we'll cover that later;\n",
    " \n",
    " \n",
    "* Hint: such variables are a perfect place to store network parameters\n",
    " * e.g. weights or some metadata"
   ]
  },
  {
   "cell_type": "code",
   "execution_count": 17,
   "metadata": {
    "collapsed": false,
    "deletable": true,
    "editable": true
   },
   "outputs": [],
   "source": [
    "#creating shared variable\n",
    "shared_vector_1 = theano.shared(np.ones(10,dtype='float64'))"
   ]
  },
  {
   "cell_type": "code",
   "execution_count": 18,
   "metadata": {
    "collapsed": false,
    "deletable": true,
    "editable": true
   },
   "outputs": [
    {
     "name": "stdout",
     "output_type": "stream",
     "text": [
      "initial value [ 1.  1.  1.  1.  1.  1.  1.  1.  1.  1.]\n"
     ]
    }
   ],
   "source": [
    "\n",
    "#evaluating shared variable (outside symbolicd graph)\n",
    "print (\"initial value\",shared_vector_1.get_value())\n",
    "\n",
    "# within symbolic graph you use them just as any other inout or transformation, not \"get value\" needed"
   ]
  },
  {
   "cell_type": "code",
   "execution_count": 19,
   "metadata": {
    "collapsed": false,
    "deletable": true,
    "editable": true
   },
   "outputs": [
    {
     "name": "stdout",
     "output_type": "stream",
     "text": [
      "new value [ 0.  1.  2.  3.  4.]\n"
     ]
    }
   ],
   "source": [
    "#setting new value\n",
    "shared_vector_1.set_value( np.arange(5) )\n",
    "\n",
    "#getting that new value\n",
    "print (\"new value\", shared_vector_1.get_value())\n",
    "\n",
    "#Note that the vector changed shape\n",
    "#This is entirely allowed... unless your graph is hard-wired to work with some fixed shape"
   ]
  },
  {
   "cell_type": "markdown",
   "metadata": {
    "deletable": true,
    "editable": true
   },
   "source": [
    "# Your turn"
   ]
  },
  {
   "cell_type": "code",
   "execution_count": 20,
   "metadata": {
    "collapsed": true,
    "deletable": true,
    "editable": true
   },
   "outputs": [],
   "source": [
    "# Write a recipe (transformation) that computes an elementwise transformation of shared_vector and input_scalar\n",
    "#Compile as a function of input_scalar\n",
    "\n",
    "input_scalar = T.scalar('coefficient',dtype='float32')\n",
    "\n",
    "scalar_times_shared = input_scalar * shared_vector_1\n",
    "\n",
    "\n",
    "shared_times_n = theano.function(inputs=[input_scalar], outputs=[scalar_times_shared], allow_input_downcast=True)\n"
   ]
  },
  {
   "cell_type": "code",
   "execution_count": 21,
   "metadata": {
    "collapsed": false,
    "deletable": true,
    "editable": true
   },
   "outputs": [
    {
     "name": "stdout",
     "output_type": "stream",
     "text": [
      "shared: [ 0.  1.  2.  3.  4.]\n",
      "shared_times_n(5) [array([  0.,   5.,  10.,  15.,  20.])]\n",
      "shared_times_n(-0.5) [array([-0. , -0.5, -1. , -1.5, -2. ])]\n"
     ]
    }
   ],
   "source": [
    "print(\"shared:\", shared_vector_1.get_value())\n",
    "\n",
    "print (\"shared_times_n(5)\",shared_times_n(5))\n",
    "\n",
    "print (\"shared_times_n(-0.5)\",shared_times_n(-0.5))\n"
   ]
  },
  {
   "cell_type": "code",
   "execution_count": 22,
   "metadata": {
    "collapsed": false,
    "deletable": true,
    "editable": true
   },
   "outputs": [
    {
     "name": "stdout",
     "output_type": "stream",
     "text": [
      "shared: [-1.  0.  1.]\n",
      "shared_times_n(5) [array([-5.,  0.,  5.])]\n",
      "shared_times_n(-0.5) [array([ 0.5, -0. , -0.5])]\n"
     ]
    }
   ],
   "source": [
    "#Changing value of vector 1 (output should change)\n",
    "shared_vector_1.set_value([-1,0,1])\n",
    "print (\"shared:\", shared_vector_1.get_value())\n",
    "\n",
    "print (\"shared_times_n(5)\",shared_times_n(5))\n",
    "\n",
    "print (\"shared_times_n(-0.5)\",shared_times_n(-0.5))\n"
   ]
  },
  {
   "cell_type": "markdown",
   "metadata": {
    "deletable": true,
    "editable": true
   },
   "source": [
    "# T.grad - why theano matters\n",
    "* Theano can compute derivatives and gradients automatically\n",
    "* Derivatives are computed symbolically, not numerically\n",
    "\n",
    "Limitations:\n",
    "* You can only compute a gradient of a __scalar__ transformation over one or several scalar or vector (or tensor) transformations or inputs.\n",
    "* A transformation has to have float32 or float64 dtype throughout the whole computation graph\n",
    " * derivative over an integer has no mathematical sense\n"
   ]
  },
  {
   "cell_type": "code",
   "execution_count": 23,
   "metadata": {
    "collapsed": false,
    "deletable": true,
    "editable": true
   },
   "outputs": [],
   "source": [
    "my_scalar = T.scalar(name='input',dtype='float64')\n",
    "\n",
    "scalar_squared = T.sum(my_scalar**2)\n",
    "\n",
    "#a derivative of v_squared by my_vector\n",
    "derivative = T.grad(scalar_squared,my_scalar)\n",
    "\n",
    "fun = theano.function([my_scalar],scalar_squared)\n",
    "grad = theano.function([my_scalar],derivative) "
   ]
  },
  {
   "cell_type": "code",
   "execution_count": 24,
   "metadata": {
    "collapsed": false,
    "deletable": true,
    "editable": true
   },
   "outputs": [
    {
     "data": {
      "text/plain": [
       "<matplotlib.legend.Legend at 0x7f0c1289e278>"
      ]
     },
     "execution_count": 24,
     "metadata": {},
     "output_type": "execute_result"
    },
    {
     "data": {
      "image/png": "[encoded data removed]",
      "text/plain": [
       "<matplotlib.figure.Figure at 0x7f0c12bc8c50>"
      ]
     },
     "metadata": {},
     "output_type": "display_data"
    }
   ],
   "source": [
    "import matplotlib.pyplot as plt\n",
    "%matplotlib inline\n",
    "\n",
    "\n",
    "x = np.linspace(-3,3)\n",
    "x_squared = list(map(fun,x))\n",
    "x_squared_der = list(map(grad,x))\n",
    "\n",
    "plt.plot(x, x_squared,label=\"x^2\")\n",
    "plt.plot(x, x_squared_der, label=\"derivative\")\n",
    "plt.legend()"
   ]
  },
  {
   "cell_type": "markdown",
   "metadata": {
    "deletable": true,
    "editable": true
   },
   "source": [
    "# Why that rocks"
   ]
  },
  {
   "cell_type": "code",
   "execution_count": 25,
   "metadata": {
    "collapsed": false,
    "deletable": true,
    "editable": true
   },
   "outputs": [],
   "source": [
    "\n",
    "my_vector = T.vector('float64')\n",
    "\n",
    "#Compute the gradient of the next weird function over my_scalar and my_vector\n",
    "#warning! Trying to understand the meaning of that function may result in permanent brain damage\n",
    "\n",
    "weird_psychotic_function = ((my_vector+my_scalar)**(1+T.var(my_vector)) +1./T.arcsinh(my_scalar)).mean()/(my_scalar**2 +1) + 0.01*T.sin(2*my_scalar**1.5)*(T.sum(my_vector)* my_scalar**2)*T.exp((my_scalar-4)**2)/(1+T.exp((my_scalar-4)**2))*(1.-(T.exp(-(my_scalar-4)**2))/(1+T.exp(-(my_scalar-4)**2)))**2\n",
    "\n",
    "\n",
    "der_by_scalar,der_by_vector = T.grad(weird_psychotic_function, my_scalar), T.grad(weird_psychotic_function, my_vector)\n",
    "\n",
    "\n",
    "compute_weird_function = theano.function([my_scalar,my_vector],weird_psychotic_function)\n",
    "compute_der_by_scalar = theano.function([my_scalar,my_vector],der_by_scalar)\n"
   ]
  },
  {
   "cell_type": "code",
   "execution_count": 26,
   "metadata": {
    "collapsed": false,
    "deletable": true,
    "editable": true
   },
   "outputs": [
    {
     "data": {
      "text/plain": [
       "<matplotlib.legend.Legend at 0x7f0c09d59240>"
      ]
     },
     "execution_count": 26,
     "metadata": {},
     "output_type": "execute_result"
    },
    {
     "data": {
      "image/png": "[encoded data removed]",
      "text/plain": [
       "<matplotlib.figure.Figure at 0x7f0c152a66a0>"
      ]
     },
     "metadata": {},
     "output_type": "display_data"
    }
   ],
   "source": [
    "#Plotting your derivative\n",
    "vector_0 = [1,2,3]\n",
    "\n",
    "scalar_space = np.linspace(0,7)\n",
    "\n",
    "y = [compute_weird_function(x,vector_0) for x in scalar_space]\n",
    "plt.plot(scalar_space,y,label='function')\n",
    "y_der_by_scalar = [compute_der_by_scalar(x,vector_0) for x in scalar_space]\n",
    "plt.plot(scalar_space,y_der_by_scalar,label='derivative')\n",
    "plt.grid();plt.legend()\n"
   ]
  },
  {
   "cell_type": "markdown",
   "metadata": {
    "deletable": true,
    "editable": true
   },
   "source": [
    "# Almost done - Updates\n",
    "\n",
    "* updates are a way of changing shared variables at after function call.\n",
    "\n",
    "* technically it's a dictionary {shared_variable : a recipe for new value} which is has to be provided when function is compiled\n",
    "\n",
    "That's how it works:"
   ]
  },
  {
   "cell_type": "code",
   "execution_count": 27,
   "metadata": {
    "collapsed": false,
    "deletable": true,
    "editable": true
   },
   "outputs": [],
   "source": [
    "# Multiply shared vector by a number and save the product back into shared vector\n",
    "\n",
    "inputs = [input_scalar]\n",
    "outputs = [scalar_times_shared] #return vector times scalar\n",
    "\n",
    "my_updates = {\n",
    "    shared_vector_1:scalar_times_shared #and write this same result bach into shared_vector_1\n",
    "}\n",
    "\n",
    "compute_and_save = theano.function(inputs, outputs, updates=my_updates)"
   ]
  },
  {
   "cell_type": "code",
   "execution_count": 28,
   "metadata": {
    "collapsed": false,
    "deletable": true,
    "editable": true
   },
   "outputs": [
    {
     "name": "stdout",
     "output_type": "stream",
     "text": [
      "initial shared value: [ 0.  1.  2.  3.  4.]\n",
      "compute_and_save(2) returns [array([ 0.,  2.,  4.,  6.,  8.])]\n",
      "new shared value: [ 0.  2.  4.  6.  8.]\n"
     ]
    }
   ],
   "source": [
    "shared_vector_1.set_value(np.arange(5))\n",
    "\n",
    "#initial shared_vector_1\n",
    "print (\"initial shared value:\" ,shared_vector_1.get_value())\n",
    "\n",
    "# evaluating the function (shared_vector_1 will be changed)\n",
    "print (\"compute_and_save(2) returns\",compute_and_save(2))\n",
    "\n",
    "#evaluate new shared_vector_1\n",
    "print (\"new shared value:\" ,shared_vector_1.get_value())\n",
    "\n"
   ]
  },
  {
   "cell_type": "markdown",
   "metadata": {
    "deletable": true,
    "editable": true
   },
   "source": [
    "# Logistic regression example (4 pts)\n",
    "\n",
    "Implement the regular logistic regression training algorithm\n",
    "\n",
    "Tips:\n",
    "* Weights fit in as a shared variable\n",
    "* X and y are potential inputs\n",
    "* Compile 2 functions:\n",
    " * train_function(X,y) - returns error and computes weights' new values __(through updates)__\n",
    " * predict_fun(X) - just computes probabilities (\"y\") given data\n",
    " \n",
    " \n",
    "We shall train on a two-class MNIST dataset\n",
    "* please note that target y are {0,1} and not {-1,1} as in some formulae"
   ]
  },
  {
   "cell_type": "code",
   "execution_count": 29,
   "metadata": {
    "collapsed": false,
    "deletable": true,
    "editable": true
   },
   "outputs": [
    {
     "name": "stdout",
     "output_type": "stream",
     "text": [
      "y [shape - (360,)]: [0 1 0 1 0 1 0 0 1 1]\n",
      "X [shape - (360, 64)]:\n",
      "[[  0.   0.   5.  13.   9.   1.   0.   0.   0.   0.  13.  15.  10.  15.\n",
      "    5.   0.   0.   3.  15.   2.   0.  11.   8.   0.   0.   4.  12.   0.\n",
      "    0.   8.   8.   0.   0.   5.   8.   0.   0.   9.   8.   0.   0.   4.\n",
      "   11.   0.   1.  12.   7.   0.   0.   2.  14.   5.  10.  12.   0.   0.\n",
      "    0.   0.   6.  13.  10.   0.   0.   0.]\n",
      " [  0.   0.   0.  12.  13.   5.   0.   0.   0.   0.   0.  11.  16.   9.\n",
      "    0.   0.   0.   0.   3.  15.  16.   6.   0.   0.   0.   7.  15.  16.\n",
      "   16.   2.   0.   0.   0.   0.   1.  16.  16.   3.   0.   0.   0.   0.\n",
      "    1.  16.  16.   6.   0.   0.   0.   0.   1.  16.  16.   6.   0.   0.\n",
      "    0.   0.   0.  11.  16.  10.   0.   0.]\n",
      " [  0.   0.   1.   9.  15.  11.   0.   0.   0.   0.  11.  16.   8.  14.\n",
      "    6.   0.   0.   2.  16.  10.   0.   9.   9.   0.   0.   1.  16.   4.\n",
      "    0.   8.   8.   0.   0.   4.  16.   4.   0.   8.   8.   0.   0.   1.\n",
      "   16.   5.   1.  11.   3.   0.   0.   0.  12.  12.  10.  10.   0.   0.\n",
      "    0.   0.   1.  10.  13.   3.   0.   0.]]\n",
      "[0 1 0 1 0 1 0 0 1 1]\n"
     ]
    }
   ],
   "source": [
    "from sklearn.datasets import load_digits\n",
    "mnist = load_digits(2)\n",
    "\n",
    "X,y = mnist.data, mnist.target\n",
    "\n",
    "\n",
    "print (\"y [shape - %s]:\"%(str(y.shape)),y[:10])\n",
    "\n",
    "print (\"X [shape - %s]:\"%(str(X.shape)))\n",
    "print (X[:3])\n",
    "print (y[:10])"
   ]
  },
  {
   "cell_type": "code",
   "execution_count": 30,
   "metadata": {
    "collapsed": false,
    "deletable": true,
    "editable": true
   },
   "outputs": [],
   "source": [
    "# inputs and shareds\n",
    "shared_weights = theano.shared(np.zeros(X.shape[1], dtype='float64'))\n",
    "\n",
    "input_X = T.matrix('X', dtype='float64')\n",
    "input_y = T.vector('y', dtype='float64')"
   ]
  },
  {
   "cell_type": "code",
   "execution_count": 31,
   "metadata": {
    "collapsed": false,
    "deletable": true,
    "editable": true
   },
   "outputs": [],
   "source": [
    "predicted_y = 1 / (1 + T.exp(-T.dot(input_X, shared_weights)))\n",
    "\n",
    "eps = 10**-9\n",
    "loss = -(input_y * T.log(predicted_y + eps) + (1 - input_y) * T.log(1 - predicted_y + eps)).mean()\n",
    "\n",
    "\n",
    "grad = T.grad(loss, shared_weights)\n",
    "\n",
    "alpha = 0.5 # learning rate\n",
    "\n",
    "updates = {\n",
    "    shared_weights: shared_weights - alpha * grad\n",
    "}"
   ]
  },
  {
   "cell_type": "code",
   "execution_count": 32,
   "metadata": {
    "collapsed": false,
    "deletable": true,
    "editable": true
   },
   "outputs": [],
   "source": [
    "train_function = theano.function(inputs=[input_X, input_y], outputs=loss, allow_input_downcast=True, updates=updates)\n",
    "\n",
    "predict_function = theano.function(inputs=[input_X], outputs=predicted_y, allow_input_downcast=True)"
   ]
  },
  {
   "cell_type": "code",
   "execution_count": 33,
   "metadata": {
    "collapsed": false,
    "deletable": true,
    "editable": true
   },
   "outputs": [
    {
     "name": "stderr",
     "output_type": "stream",
     "text": [
      "/home/ubuntu/.virtualenvs/mlyt/lib/python3.4/site-packages/sklearn/cross_validation.py:44: DeprecationWarning: This module was deprecated in version 0.18 in favor of the model_selection module into which all the refactored classes and functions are moved. Also note that the interface of the new CV iterators are different from that of this module. This module will be removed in 0.20.\n",
      "  \"This module will be removed in 0.20.\", DeprecationWarning)\n"
     ]
    }
   ],
   "source": [
    "from sklearn.cross_validation import train_test_split\n",
    "X_train,X_test,y_train,y_test = train_test_split(X,y)"
   ]
  },
  {
   "cell_type": "code",
   "execution_count": 34,
   "metadata": {
    "collapsed": false,
    "deletable": true,
    "editable": true
   },
   "outputs": [
    {
     "name": "stdout",
     "output_type": "stream",
     "text": [
      "loss at iter 0:0.6931\n",
      "train auc: 1.0\n",
      "test auc: 1.0\n",
      "loss at iter 1:0.1544\n",
      "train auc: 1.0\n",
      "test auc: 1.0\n",
      "loss at iter 2:0.1451\n",
      "train auc: 1.0\n",
      "test auc: 1.0\n",
      "loss at iter 3:0.0892\n",
      "train auc: 1.0\n",
      "test auc: 1.0\n",
      "loss at iter 4:0.0029\n",
      "train auc: 1.0\n",
      "test auc: 1.0\n",
      "resulting weights:\n"
     ]
    },
    {
     "data": {
      "text/plain": [
       "<matplotlib.colorbar.Colorbar at 0x7f0c118a4da0>"
      ]
     },
     "execution_count": 34,
     "metadata": {},
     "output_type": "execute_result"
    },
    {
     "data": {
      "image/png": "[encoded data removed]",
      "text/plain": [
       "<matplotlib.figure.Figure at 0x7f0c11910d30>"
      ]
     },
     "metadata": {},
     "output_type": "display_data"
    }
   ],
   "source": [
    "from sklearn.metrics import roc_auc_score\n",
    "\n",
    "for i in range(5):\n",
    "    loss_i = train_function(X_train,y_train)\n",
    "    print (\"loss at iter %i:%.4f\"%(i,loss_i))\n",
    "    print (\"train auc:\",roc_auc_score(y_train,predict_function(X_train)))\n",
    "    print (\"test auc:\",roc_auc_score(y_test,predict_function(X_test)))\n",
    "\n",
    "    \n",
    "print (\"resulting weights:\")\n",
    "plt.imshow(shared_weights.get_value().reshape(8,-1))\n",
    "plt.colorbar()"
   ]
  },
  {
   "cell_type": "markdown",
   "metadata": {
    "deletable": true,
    "editable": true
   },
   "source": [
    "# lasagne\n",
    "* lasagne is a library for neural network building and training\n",
    "* it's a low-level library with almost seamless integration with theano\n",
    "\n",
    "For a demo we shall solve the same digit recognition problem, but at a different scale\n",
    "* images are now 28x28\n",
    "* 10 different digits\n",
    "* 50k samples"
   ]
  },
  {
   "cell_type": "code",
   "execution_count": 35,
   "metadata": {
    "collapsed": false,
    "deletable": true,
    "editable": true
   },
   "outputs": [
    {
     "name": "stdout",
     "output_type": "stream",
     "text": [
      "(50000, 1, 28, 28) (50000,)\n"
     ]
    }
   ],
   "source": [
    "from mnist import load_dataset\n",
    "X_train,y_train,X_val,y_val,X_test,y_test = load_dataset()\n",
    "\n",
    "print(X_train.shape, y_train.shape)"
   ]
  },
  {
   "cell_type": "code",
   "execution_count": 36,
   "metadata": {
    "collapsed": false,
    "deletable": true,
    "editable": true
   },
   "outputs": [],
   "source": [
    "import lasagne\n",
    "\n",
    "input_X = T.tensor4(\"X\")\n",
    "\n",
    "#input dimention (None means \"Arbitrary\" and only works at  the first axes [samples])\n",
    "input_shape = [None,1,28,28]\n",
    "\n",
    "target_y = T.vector(\"target Y integer\",dtype='int32')"
   ]
  },
  {
   "cell_type": "markdown",
   "metadata": {
    "deletable": true,
    "editable": true
   },
   "source": [
    "Defining network architecture"
   ]
  },
  {
   "cell_type": "code",
   "execution_count": 37,
   "metadata": {
    "collapsed": false,
    "deletable": true,
    "editable": true
   },
   "outputs": [],
   "source": [
    "#Input layer (auxilary)\n",
    "input_layer = lasagne.layers.InputLayer(shape=input_shape, input_var=input_X)\n",
    "\n",
    "#fully connected layer, that takes input layer and applies 50 neurons to it.\n",
    "# nonlinearity here is sigmoid as in logistic regression\n",
    "# you can give a name to each layer (optional)\n",
    "dense_1 = lasagne.layers.DenseLayer(input_layer,num_units=50,\n",
    "                                   nonlinearity = lasagne.nonlinearities.sigmoid,\n",
    "                                   name = \"hidden_dense_layer\")\n",
    "\n",
    "#fully connected output layer that takes dense_1 as input and has 10 neurons (1 for each digit)\n",
    "#We use softmax nonlinearity to make probabilities add up to 1\n",
    "dense_output = lasagne.layers.DenseLayer(dense_1,num_units = 10,\n",
    "                                        nonlinearity = lasagne.nonlinearities.softmax,\n",
    "                                        name='output')\n"
   ]
  },
  {
   "cell_type": "code",
   "execution_count": 38,
   "metadata": {
    "collapsed": false,
    "deletable": true,
    "editable": true
   },
   "outputs": [],
   "source": [
    "#network prediction (theano-transformation)\n",
    "y_predicted = lasagne.layers.get_output(dense_output)"
   ]
  },
  {
   "cell_type": "code",
   "execution_count": 39,
   "metadata": {
    "collapsed": false,
    "deletable": true,
    "editable": true
   },
   "outputs": [
    {
     "name": "stdout",
     "output_type": "stream",
     "text": [
      "[hidden_dense_layer.W, hidden_dense_layer.b, output.W, output.b]\n"
     ]
    }
   ],
   "source": [
    "#all network weights (shared variables)\n",
    "all_weights = lasagne.layers.get_all_params(dense_output)\n",
    "print (all_weights)"
   ]
  },
  {
   "cell_type": "markdown",
   "metadata": {
    "deletable": true,
    "editable": true
   },
   "source": [
    "### Than you could simply\n",
    "* define loss function manually\n",
    "* compute error gradient over all weights\n",
    "* define updates\n",
    "* But that's a whole lot of work and life's short\n",
    "  * not to mention life's too short to wait for SGD to converge\n",
    "\n",
    "Instead, we shall use Lasagne builtins"
   ]
  },
  {
   "cell_type": "code",
   "execution_count": 40,
   "metadata": {
    "collapsed": false,
    "deletable": true,
    "editable": true
   },
   "outputs": [],
   "source": [
    "#Mean categorical crossentropy as a loss function - similar to logistic loss but for multiclass targets\n",
    "loss = lasagne.objectives.categorical_crossentropy(y_predicted,target_y).mean()\n",
    "\n",
    "#prediction accuracy\n",
    "accuracy = lasagne.objectives.categorical_accuracy(y_predicted,target_y).mean()\n",
    "\n",
    "#This function computes gradient AND composes weight updates just like you did earlier\n",
    "updates_sgd = lasagne.updates.sgd(loss, all_weights,learning_rate=0.01)"
   ]
  },
  {
   "cell_type": "code",
   "execution_count": 41,
   "metadata": {
    "collapsed": true,
    "deletable": true,
    "editable": true
   },
   "outputs": [],
   "source": [
    "#function that computes loss and updates weights\n",
    "train_fun = theano.function([input_X,target_y],[loss,accuracy],updates= updates_sgd)\n",
    "\n",
    "#function that just computes accuracy\n",
    "accuracy_fun = theano.function([input_X,target_y],accuracy)"
   ]
  },
  {
   "cell_type": "markdown",
   "metadata": {
    "deletable": true,
    "editable": true
   },
   "source": [
    "### That's all, now let's train it!\n",
    "* We got a lot of data, so it's recommended that you use SGD\n",
    "* So let's implement a function that splits the training sample into minibatches"
   ]
  },
  {
   "cell_type": "code",
   "execution_count": 475,
   "metadata": {
    "collapsed": true,
    "deletable": true,
    "editable": true
   },
   "outputs": [],
   "source": [
    "from scipy.ndimage.interpolation import rotate"
   ]
  },
  {
   "cell_type": "code",
   "execution_count": 512,
   "metadata": {
    "collapsed": true,
    "deletable": true,
    "editable": true
   },
   "outputs": [],
   "source": [
    "# An auxilary function that returns mini-batches for neural network training\n",
    "\n",
    "#Parameters\n",
    "# X - a tensor of images with shape (many, 1, 28, 28), e.g. X_train\n",
    "# y - a vector of answers for corresponding images e.g. Y_train\n",
    "#batch_size - a single number - the intended size of each batches\n",
    "\n",
    "#What do need to implement\n",
    "# 1) Shuffle data\n",
    "# - Gotta shuffle X and y the same way not to break the correspondence between X_i and y_i\n",
    "# 3) Split data into minibatches of batch_size\n",
    "# - If data size is not a multiple of batch_size, make one last batch smaller.\n",
    "# 4) return a list (or an iterator) of pairs\n",
    "# - (подгруппа картинок, ответы из y на эту подгруппу)\n",
    "def iterate_minibatches(X, y, batchsize, seed=None, roll=False):\n",
    "    if seed is not None:\n",
    "        np.random.seed(seed)\n",
    "    if roll:\n",
    "        X = X.copy()\n",
    "        batch_count = y.shape[0] // batchsize\n",
    "        for index in range(batch_count):\n",
    "            begin = index * batchsize\n",
    "            end = begin + batchsize\n",
    "        shift = (np.random.randint(-3, 4), np.random.randint(-3, 4))\n",
    "        X[begin:end] = np.roll(X[begin:end], shift, axis=(2, 3))\n",
    "        angle = np.random.random() * 30 - 15\n",
    "        new_X = rotate(X[begin:end], angle=angle, axes=(2, 3))\n",
    "        new_cor = (new_X.shape[2] - 28) // 2\n",
    "        X[begin:end] = new_X[:, :, new_cor:new_cor+28, new_cor:new_cor+28]\n",
    "    indices = np.random.permutation(y.shape[0])\n",
    "    X = X[indices]\n",
    "    y = y[indices]\n",
    "    batch_count = y.shape[0] // batchsize\n",
    "    for index in range(batch_count):\n",
    "        begin = index * batchsize\n",
    "        end = begin + batchsize\n",
    "        X_y = X[begin:end]\n",
    "        yield (X_y, y[begin:end])\n",
    "    if y.shape[0] % batchsize != 0:\n",
    "        begin = batch_count * batchsize\n",
    "        X_y = X[begin:]\n",
    "        yield (X_y, y[begin:])"
   ]
  },
  {
   "cell_type": "markdown",
   "metadata": {
    "deletable": true,
    "editable": true
   },
   "source": [
    "# Training loop"
   ]
  },
  {
   "cell_type": "code",
   "execution_count": 43,
   "metadata": {
    "collapsed": false,
    "deletable": true,
    "editable": true,
    "scrolled": true
   },
   "outputs": [
    {
     "name": "stdout",
     "output_type": "stream",
     "text": [
      "Epoch 1 of 100 took 0.840s\n",
      "  training loss (in-iteration):\t\t1.853022\n",
      "  train accuracy:\t\t59.85 %\n",
      "  validation accuracy:\t\t76.86 %\n",
      "Epoch 2 of 100 took 0.816s\n",
      "  training loss (in-iteration):\t\t1.183643\n",
      "  train accuracy:\t\t78.42 %\n",
      "  validation accuracy:\t\t84.09 %\n",
      "Epoch 3 of 100 took 0.819s\n",
      "  training loss (in-iteration):\t\t0.852617\n",
      "  train accuracy:\t\t83.26 %\n",
      "  validation accuracy:\t\t86.63 %\n",
      "Epoch 4 of 100 took 0.825s\n",
      "  training loss (in-iteration):\t\t0.688815\n",
      "  train accuracy:\t\t85.39 %\n",
      "  validation accuracy:\t\t87.97 %\n",
      "Epoch 5 of 100 took 0.874s\n",
      "  training loss (in-iteration):\t\t0.594013\n",
      "  train accuracy:\t\t86.60 %\n",
      "  validation accuracy:\t\t88.73 %\n",
      "Epoch 6 of 100 took 0.849s\n",
      "  training loss (in-iteration):\t\t0.532685\n",
      "  train accuracy:\t\t87.49 %\n",
      "  validation accuracy:\t\t89.52 %\n",
      "Epoch 7 of 100 took 0.859s\n",
      "  training loss (in-iteration):\t\t0.489722\n",
      "  train accuracy:\t\t88.06 %\n",
      "  validation accuracy:\t\t89.94 %\n",
      "Epoch 8 of 100 took 0.833s\n",
      "  training loss (in-iteration):\t\t0.458092\n",
      "  train accuracy:\t\t88.53 %\n",
      "  validation accuracy:\t\t90.07 %\n",
      "Epoch 9 of 100 took 0.833s\n",
      "  training loss (in-iteration):\t\t0.433768\n",
      "  train accuracy:\t\t88.91 %\n",
      "  validation accuracy:\t\t90.41 %\n",
      "Epoch 10 of 100 took 0.829s\n",
      "  training loss (in-iteration):\t\t0.414273\n",
      "  train accuracy:\t\t89.26 %\n",
      "  validation accuracy:\t\t90.67 %\n",
      "Epoch 11 of 100 took 0.842s\n",
      "  training loss (in-iteration):\t\t0.398257\n",
      "  train accuracy:\t\t89.53 %\n",
      "  validation accuracy:\t\t90.76 %\n",
      "Epoch 12 of 100 took 0.840s\n",
      "  training loss (in-iteration):\t\t0.384823\n",
      "  train accuracy:\t\t89.75 %\n",
      "  validation accuracy:\t\t91.09 %\n",
      "Epoch 13 of 100 took 0.832s\n",
      "  training loss (in-iteration):\t\t0.373313\n",
      "  train accuracy:\t\t90.00 %\n",
      "  validation accuracy:\t\t91.19 %\n",
      "Epoch 14 of 100 took 0.835s\n",
      "  training loss (in-iteration):\t\t0.363240\n",
      "  train accuracy:\t\t90.17 %\n",
      "  validation accuracy:\t\t91.29 %\n",
      "Epoch 15 of 100 took 0.833s\n",
      "  training loss (in-iteration):\t\t0.354340\n",
      "  train accuracy:\t\t90.36 %\n",
      "  validation accuracy:\t\t91.26 %\n",
      "Epoch 16 of 100 took 0.835s\n",
      "  training loss (in-iteration):\t\t0.346482\n",
      "  train accuracy:\t\t90.51 %\n",
      "  validation accuracy:\t\t91.49 %\n",
      "Epoch 17 of 100 took 0.838s\n",
      "  training loss (in-iteration):\t\t0.339259\n",
      "  train accuracy:\t\t90.61 %\n",
      "  validation accuracy:\t\t91.64 %\n",
      "Epoch 18 of 100 took 0.840s\n",
      "  training loss (in-iteration):\t\t0.332761\n",
      "  train accuracy:\t\t90.74 %\n",
      "  validation accuracy:\t\t91.74 %\n",
      "Epoch 19 of 100 took 0.855s\n",
      "  training loss (in-iteration):\t\t0.326840\n",
      "  train accuracy:\t\t90.89 %\n",
      "  validation accuracy:\t\t91.87 %\n",
      "Epoch 20 of 100 took 0.821s\n",
      "  training loss (in-iteration):\t\t0.321268\n",
      "  train accuracy:\t\t91.03 %\n",
      "  validation accuracy:\t\t91.95 %\n",
      "Epoch 21 of 100 took 0.829s\n",
      "  training loss (in-iteration):\t\t0.316044\n",
      "  train accuracy:\t\t91.13 %\n",
      "  validation accuracy:\t\t91.96 %\n",
      "Epoch 22 of 100 took 0.821s\n",
      "  training loss (in-iteration):\t\t0.311304\n",
      "  train accuracy:\t\t91.30 %\n",
      "  validation accuracy:\t\t92.15 %\n",
      "Epoch 23 of 100 took 0.822s\n",
      "  training loss (in-iteration):\t\t0.306850\n",
      "  train accuracy:\t\t91.38 %\n",
      "  validation accuracy:\t\t92.15 %\n",
      "Epoch 24 of 100 took 0.822s\n",
      "  training loss (in-iteration):\t\t0.302499\n",
      "  train accuracy:\t\t91.47 %\n",
      "  validation accuracy:\t\t92.19 %\n",
      "Epoch 25 of 100 took 0.820s\n",
      "  training loss (in-iteration):\t\t0.298502\n",
      "  train accuracy:\t\t91.56 %\n",
      "  validation accuracy:\t\t92.42 %\n",
      "Epoch 26 of 100 took 0.821s\n",
      "  training loss (in-iteration):\t\t0.294664\n",
      "  train accuracy:\t\t91.65 %\n",
      "  validation accuracy:\t\t92.43 %\n",
      "Epoch 27 of 100 took 0.828s\n",
      "  training loss (in-iteration):\t\t0.291041\n",
      "  train accuracy:\t\t91.74 %\n",
      "  validation accuracy:\t\t92.45 %\n",
      "Epoch 28 of 100 took 0.829s\n",
      "  training loss (in-iteration):\t\t0.287500\n",
      "  train accuracy:\t\t91.83 %\n",
      "  validation accuracy:\t\t92.58 %\n",
      "Epoch 29 of 100 took 0.785s\n",
      "  training loss (in-iteration):\t\t0.284233\n",
      "  train accuracy:\t\t91.91 %\n",
      "  validation accuracy:\t\t92.62 %\n",
      "Epoch 30 of 100 took 0.808s\n",
      "  training loss (in-iteration):\t\t0.281033\n",
      "  train accuracy:\t\t92.01 %\n",
      "  validation accuracy:\t\t92.74 %\n",
      "Epoch 31 of 100 took 0.819s\n",
      "  training loss (in-iteration):\t\t0.277853\n",
      "  train accuracy:\t\t92.10 %\n",
      "  validation accuracy:\t\t92.75 %\n",
      "Epoch 32 of 100 took 0.821s\n",
      "  training loss (in-iteration):\t\t0.274975\n",
      "  train accuracy:\t\t92.20 %\n",
      "  validation accuracy:\t\t92.78 %\n",
      "Epoch 33 of 100 took 0.816s\n",
      "  training loss (in-iteration):\t\t0.272050\n",
      "  train accuracy:\t\t92.29 %\n",
      "  validation accuracy:\t\t92.82 %\n",
      "Epoch 34 of 100 took 0.809s\n",
      "  training loss (in-iteration):\t\t0.269336\n",
      "  train accuracy:\t\t92.36 %\n",
      "  validation accuracy:\t\t92.89 %\n",
      "Epoch 35 of 100 took 0.829s\n",
      "  training loss (in-iteration):\t\t0.266695\n",
      "  train accuracy:\t\t92.44 %\n",
      "  validation accuracy:\t\t92.94 %\n",
      "Epoch 36 of 100 took 0.824s\n",
      "  training loss (in-iteration):\t\t0.264139\n",
      "  train accuracy:\t\t92.48 %\n",
      "  validation accuracy:\t\t93.07 %\n",
      "Epoch 37 of 100 took 0.809s\n",
      "  training loss (in-iteration):\t\t0.261600\n",
      "  train accuracy:\t\t92.57 %\n",
      "  validation accuracy:\t\t93.24 %\n",
      "Epoch 38 of 100 took 0.817s\n",
      "  training loss (in-iteration):\t\t0.259138\n",
      "  train accuracy:\t\t92.66 %\n",
      "  validation accuracy:\t\t93.20 %\n",
      "Epoch 39 of 100 took 0.772s\n",
      "  training loss (in-iteration):\t\t0.256709\n",
      "  train accuracy:\t\t92.74 %\n",
      "  validation accuracy:\t\t93.26 %\n",
      "Epoch 40 of 100 took 0.780s\n",
      "  training loss (in-iteration):\t\t0.254478\n",
      "  train accuracy:\t\t92.79 %\n",
      "  validation accuracy:\t\t93.31 %\n",
      "Epoch 41 of 100 took 0.783s\n",
      "  training loss (in-iteration):\t\t0.252205\n",
      "  train accuracy:\t\t92.85 %\n",
      "  validation accuracy:\t\t93.39 %\n",
      "Epoch 42 of 100 took 0.780s\n",
      "  training loss (in-iteration):\t\t0.250007\n",
      "  train accuracy:\t\t92.90 %\n",
      "  validation accuracy:\t\t93.39 %\n",
      "Epoch 43 of 100 took 0.791s\n",
      "  training loss (in-iteration):\t\t0.247920\n",
      "  train accuracy:\t\t92.98 %\n",
      "  validation accuracy:\t\t93.46 %\n",
      "Epoch 44 of 100 took 0.785s\n",
      "  training loss (in-iteration):\t\t0.245830\n",
      "  train accuracy:\t\t93.02 %\n",
      "  validation accuracy:\t\t93.48 %\n",
      "Epoch 45 of 100 took 0.792s\n",
      "  training loss (in-iteration):\t\t0.243760\n",
      "  train accuracy:\t\t93.07 %\n",
      "  validation accuracy:\t\t93.57 %\n",
      "Epoch 46 of 100 took 0.804s\n",
      "  training loss (in-iteration):\t\t0.241812\n",
      "  train accuracy:\t\t93.10 %\n",
      "  validation accuracy:\t\t93.57 %\n",
      "Epoch 47 of 100 took 0.789s\n",
      "  training loss (in-iteration):\t\t0.239835\n",
      "  train accuracy:\t\t93.19 %\n",
      "  validation accuracy:\t\t93.63 %\n",
      "Epoch 48 of 100 took 0.833s\n",
      "  training loss (in-iteration):\t\t0.237913\n",
      "  train accuracy:\t\t93.24 %\n",
      "  validation accuracy:\t\t93.70 %\n",
      "Epoch 49 of 100 took 0.793s\n",
      "  training loss (in-iteration):\t\t0.236114\n",
      "  train accuracy:\t\t93.31 %\n",
      "  validation accuracy:\t\t93.73 %\n",
      "Epoch 50 of 100 took 0.786s\n",
      "  training loss (in-iteration):\t\t0.234237\n",
      "  train accuracy:\t\t93.34 %\n",
      "  validation accuracy:\t\t93.73 %\n",
      "Epoch 51 of 100 took 0.798s\n",
      "  training loss (in-iteration):\t\t0.232494\n",
      "  train accuracy:\t\t93.39 %\n",
      "  validation accuracy:\t\t93.85 %\n",
      "Epoch 52 of 100 took 0.785s\n",
      "  training loss (in-iteration):\t\t0.230692\n",
      "  train accuracy:\t\t93.44 %\n",
      "  validation accuracy:\t\t93.90 %\n",
      "Epoch 53 of 100 took 0.780s\n",
      "  training loss (in-iteration):\t\t0.229007\n",
      "  train accuracy:\t\t93.49 %\n",
      "  validation accuracy:\t\t93.79 %\n",
      "Epoch 54 of 100 took 0.803s\n",
      "  training loss (in-iteration):\t\t0.227339\n",
      "  train accuracy:\t\t93.58 %\n",
      "  validation accuracy:\t\t93.96 %\n",
      "Epoch 55 of 100 took 0.924s\n",
      "  training loss (in-iteration):\t\t0.225701\n",
      "  train accuracy:\t\t93.59 %\n",
      "  validation accuracy:\t\t93.90 %\n",
      "Epoch 56 of 100 took 0.804s\n",
      "  training loss (in-iteration):\t\t0.224032\n",
      "  train accuracy:\t\t93.65 %\n",
      "  validation accuracy:\t\t94.00 %\n",
      "Epoch 57 of 100 took 0.826s\n",
      "  training loss (in-iteration):\t\t0.222462\n",
      "  train accuracy:\t\t93.68 %\n",
      "  validation accuracy:\t\t93.98 %\n",
      "Epoch 58 of 100 took 0.788s\n",
      "  training loss (in-iteration):\t\t0.220919\n",
      "  train accuracy:\t\t93.74 %\n",
      "  validation accuracy:\t\t94.06 %\n",
      "Epoch 59 of 100 took 0.793s\n",
      "  training loss (in-iteration):\t\t0.219355\n",
      "  train accuracy:\t\t93.75 %\n",
      "  validation accuracy:\t\t94.15 %\n",
      "Epoch 60 of 100 took 0.810s\n",
      "  training loss (in-iteration):\t\t0.217886\n",
      "  train accuracy:\t\t93.83 %\n",
      "  validation accuracy:\t\t94.18 %\n",
      "Epoch 61 of 100 took 0.780s\n",
      "  training loss (in-iteration):\t\t0.216360\n",
      "  train accuracy:\t\t93.87 %\n",
      "  validation accuracy:\t\t94.20 %\n",
      "Epoch 62 of 100 took 0.795s\n",
      "  training loss (in-iteration):\t\t0.214888\n",
      "  train accuracy:\t\t93.92 %\n",
      "  validation accuracy:\t\t94.23 %\n",
      "Epoch 63 of 100 took 0.789s\n",
      "  training loss (in-iteration):\t\t0.213435\n",
      "  train accuracy:\t\t93.97 %\n",
      "  validation accuracy:\t\t94.23 %\n",
      "Epoch 64 of 100 took 0.815s\n",
      "  training loss (in-iteration):\t\t0.211995\n",
      "  train accuracy:\t\t94.00 %\n",
      "  validation accuracy:\t\t94.28 %\n",
      "Epoch 65 of 100 took 0.783s\n",
      "  training loss (in-iteration):\t\t0.210620\n",
      "  train accuracy:\t\t94.04 %\n",
      "  validation accuracy:\t\t94.32 %\n",
      "Epoch 66 of 100 took 0.811s\n",
      "  training loss (in-iteration):\t\t0.209166\n",
      "  train accuracy:\t\t94.06 %\n",
      "  validation accuracy:\t\t94.34 %\n",
      "Epoch 67 of 100 took 0.787s\n",
      "  training loss (in-iteration):\t\t0.207925\n",
      "  train accuracy:\t\t94.09 %\n",
      "  validation accuracy:\t\t94.43 %\n",
      "Epoch 68 of 100 took 0.782s\n",
      "  training loss (in-iteration):\t\t0.206521\n",
      "  train accuracy:\t\t94.15 %\n",
      "  validation accuracy:\t\t94.40 %\n",
      "Epoch 69 of 100 took 0.779s\n",
      "  training loss (in-iteration):\t\t0.205243\n",
      "  train accuracy:\t\t94.19 %\n",
      "  validation accuracy:\t\t94.47 %\n",
      "Epoch 70 of 100 took 0.816s\n",
      "  training loss (in-iteration):\t\t0.203922\n",
      "  train accuracy:\t\t94.20 %\n",
      "  validation accuracy:\t\t94.43 %\n",
      "Epoch 71 of 100 took 0.793s\n",
      "  training loss (in-iteration):\t\t0.202687\n",
      "  train accuracy:\t\t94.22 %\n",
      "  validation accuracy:\t\t94.52 %\n",
      "Epoch 72 of 100 took 0.945s\n",
      "  training loss (in-iteration):\t\t0.201403\n",
      "  train accuracy:\t\t94.26 %\n",
      "  validation accuracy:\t\t94.60 %\n",
      "Epoch 73 of 100 took 0.807s\n",
      "  training loss (in-iteration):\t\t0.200193\n",
      "  train accuracy:\t\t94.31 %\n",
      "  validation accuracy:\t\t94.58 %\n",
      "Epoch 74 of 100 took 0.798s\n",
      "  training loss (in-iteration):\t\t0.198942\n",
      "  train accuracy:\t\t94.35 %\n",
      "  validation accuracy:\t\t94.70 %\n",
      "Epoch 75 of 100 took 0.833s\n",
      "  training loss (in-iteration):\t\t0.197776\n",
      "  train accuracy:\t\t94.39 %\n",
      "  validation accuracy:\t\t94.73 %\n",
      "Epoch 76 of 100 took 0.791s\n",
      "  training loss (in-iteration):\t\t0.196569\n",
      "  train accuracy:\t\t94.41 %\n",
      "  validation accuracy:\t\t94.70 %\n",
      "Epoch 77 of 100 took 0.799s\n",
      "  training loss (in-iteration):\t\t0.195409\n",
      "  train accuracy:\t\t94.43 %\n",
      "  validation accuracy:\t\t94.73 %\n",
      "Epoch 78 of 100 took 0.807s\n",
      "  training loss (in-iteration):\t\t0.194223\n",
      "  train accuracy:\t\t94.45 %\n",
      "  validation accuracy:\t\t94.78 %\n",
      "Epoch 79 of 100 took 0.792s\n",
      "  training loss (in-iteration):\t\t0.193067\n",
      "  train accuracy:\t\t94.50 %\n",
      "  validation accuracy:\t\t94.76 %\n",
      "Epoch 80 of 100 took 0.798s\n",
      "  training loss (in-iteration):\t\t0.191913\n",
      "  train accuracy:\t\t94.54 %\n",
      "  validation accuracy:\t\t94.78 %\n",
      "Epoch 81 of 100 took 0.804s\n",
      "  training loss (in-iteration):\t\t0.190800\n",
      "  train accuracy:\t\t94.56 %\n",
      "  validation accuracy:\t\t94.86 %\n",
      "Epoch 82 of 100 took 0.793s\n",
      "  training loss (in-iteration):\t\t0.189738\n",
      "  train accuracy:\t\t94.61 %\n",
      "  validation accuracy:\t\t94.84 %\n",
      "Epoch 83 of 100 took 0.805s\n",
      "  training loss (in-iteration):\t\t0.188621\n",
      "  train accuracy:\t\t94.65 %\n",
      "  validation accuracy:\t\t94.88 %\n",
      "Epoch 84 of 100 took 0.801s\n",
      "  training loss (in-iteration):\t\t0.187601\n",
      "  train accuracy:\t\t94.66 %\n",
      "  validation accuracy:\t\t94.89 %\n",
      "Epoch 85 of 100 took 0.801s\n",
      "  training loss (in-iteration):\t\t0.186543\n",
      "  train accuracy:\t\t94.69 %\n",
      "  validation accuracy:\t\t94.93 %\n",
      "Epoch 86 of 100 took 0.799s\n",
      "  training loss (in-iteration):\t\t0.185473\n",
      "  train accuracy:\t\t94.72 %\n",
      "  validation accuracy:\t\t94.94 %\n",
      "Epoch 87 of 100 took 0.791s\n",
      "  training loss (in-iteration):\t\t0.184427\n",
      "  train accuracy:\t\t94.76 %\n",
      "  validation accuracy:\t\t95.02 %\n",
      "Epoch 88 of 100 took 0.802s\n",
      "  training loss (in-iteration):\t\t0.183459\n",
      "  train accuracy:\t\t94.79 %\n",
      "  validation accuracy:\t\t95.03 %\n",
      "Epoch 89 of 100 took 0.795s\n",
      "  training loss (in-iteration):\t\t0.182423\n",
      "  train accuracy:\t\t94.81 %\n",
      "  validation accuracy:\t\t95.03 %\n",
      "Epoch 90 of 100 took 0.792s\n",
      "  training loss (in-iteration):\t\t0.181435\n",
      "  train accuracy:\t\t94.85 %\n",
      "  validation accuracy:\t\t95.06 %\n",
      "Epoch 91 of 100 took 0.805s\n",
      "  training loss (in-iteration):\t\t0.180471\n",
      "  train accuracy:\t\t94.89 %\n",
      "  validation accuracy:\t\t95.14 %\n",
      "Epoch 92 of 100 took 0.796s\n",
      "  training loss (in-iteration):\t\t0.179483\n",
      "  train accuracy:\t\t94.90 %\n",
      "  validation accuracy:\t\t95.08 %\n",
      "Epoch 93 of 100 took 0.840s\n",
      "  training loss (in-iteration):\t\t0.178552\n",
      "  train accuracy:\t\t94.91 %\n",
      "  validation accuracy:\t\t95.11 %\n",
      "Epoch 94 of 100 took 0.796s\n",
      "  training loss (in-iteration):\t\t0.177555\n",
      "  train accuracy:\t\t94.95 %\n",
      "  validation accuracy:\t\t95.14 %\n",
      "Epoch 95 of 100 took 0.792s\n",
      "  training loss (in-iteration):\t\t0.176650\n",
      "  train accuracy:\t\t94.96 %\n",
      "  validation accuracy:\t\t95.20 %\n",
      "Epoch 96 of 100 took 0.799s\n",
      "  training loss (in-iteration):\t\t0.175718\n",
      "  train accuracy:\t\t95.00 %\n",
      "  validation accuracy:\t\t95.13 %\n",
      "Epoch 97 of 100 took 0.795s\n",
      "  training loss (in-iteration):\t\t0.174802\n",
      "  train accuracy:\t\t95.05 %\n",
      "  validation accuracy:\t\t95.22 %\n",
      "Epoch 98 of 100 took 0.791s\n",
      "  training loss (in-iteration):\t\t0.173915\n",
      "  train accuracy:\t\t95.06 %\n",
      "  validation accuracy:\t\t95.22 %\n",
      "Epoch 99 of 100 took 0.793s\n",
      "  training loss (in-iteration):\t\t0.172988\n",
      "  train accuracy:\t\t95.11 %\n",
      "  validation accuracy:\t\t95.25 %\n",
      "Epoch 100 of 100 took 0.800s\n",
      "  training loss (in-iteration):\t\t0.172122\n",
      "  train accuracy:\t\t95.12 %\n",
      "  validation accuracy:\t\t95.25 %\n"
     ]
    }
   ],
   "source": [
    "import time\n",
    "\n",
    "num_epochs = 100 #amount of passes through the data\n",
    "\n",
    "batch_size = 50 #number of samples processed at each function call\n",
    "\n",
    "for epoch in range(num_epochs):\n",
    "    # In each epoch, we do a full pass over the training data:\n",
    "    train_err = 0\n",
    "    train_acc = 0\n",
    "    train_batches = 0\n",
    "    start_time = time.time()\n",
    "    for batch in iterate_minibatches(X_train, y_train,batch_size):\n",
    "        inputs, targets = batch\n",
    "        train_err_batch, train_acc_batch= train_fun(inputs, targets)\n",
    "        train_err += train_err_batch\n",
    "        train_acc += train_acc_batch\n",
    "        train_batches += 1\n",
    "\n",
    "    # And a full pass over the validation data:\n",
    "    val_acc = 0\n",
    "    val_batches = 0\n",
    "    for batch in iterate_minibatches(X_val, y_val, batch_size):\n",
    "        inputs, targets = batch\n",
    "        val_acc += accuracy_fun(inputs, targets)\n",
    "        val_batches += 1\n",
    "\n",
    "    \n",
    "    # Then we print the results for this epoch:\n",
    "    print(\"Epoch {} of {} took {:.3f}s\".format(\n",
    "        epoch + 1, num_epochs, time.time() - start_time))\n",
    "\n",
    "    print(\"  training loss (in-iteration):\\t\\t{:.6f}\".format(train_err / train_batches))\n",
    "    print(\"  train accuracy:\\t\\t{:.2f} %\".format(\n",
    "        train_acc / train_batches * 100))\n",
    "    print(\"  validation accuracy:\\t\\t{:.2f} %\".format(\n",
    "        val_acc / val_batches * 100))"
   ]
  },
  {
   "cell_type": "code",
   "execution_count": 568,
   "metadata": {
    "collapsed": false,
    "deletable": true,
    "editable": true
   },
   "outputs": [
    {
     "name": "stdout",
     "output_type": "stream",
     "text": [
      "Final results:\n",
      "  test accuracy:\t\t98.08 %\n",
      "We need more magic!\n"
     ]
    }
   ],
   "source": [
    "test_acc = 0\n",
    "test_batches = 0\n",
    "for batch in iterate_minibatches(X_test, y_test, 500):\n",
    "    inputs, targets = batch\n",
    "    acc = accuracy_fun(inputs, targets)\n",
    "    test_acc += acc\n",
    "    test_batches += 1\n",
    "print(\"Final results:\")\n",
    "print(\"  test accuracy:\\t\\t{:.2f} %\".format(\n",
    "    test_acc / test_batches * 100))\n",
    "\n",
    "if test_acc / test_batches * 100 > 99:\n",
    "    print (\"Achievement unlocked: 80lvl Warlock!\")\n",
    "else:\n",
    "    print (\"We need more magic!\")"
   ]
  },
  {
   "cell_type": "markdown",
   "metadata": {
    "deletable": true,
    "editable": true
   },
   "source": [
    "# A better network ( 4+ pts )\n",
    "\n",
    "\n",
    "* The quest is to create a network that gets at least 99% at test set\n",
    " * In case you tried several architectures and have a __detailed__ report - 97.5% \"is fine too\". \n",
    " * __+1 bonus point__ each 0.2% past 99%\n",
    " * More points for creative approach\n",
    " \n",
    "__ There is a mini-report at the end that you will have to fill in. We recommend to read it first and fill in while you are iterating. __\n",
    " \n",
    "\n",
    "## Tips on what can be done:\n",
    "\n",
    "\n",
    "\n",
    " * Network size\n",
    "   * MOAR neurons, \n",
    "   * MOAR layers, \n",
    "   * Convolutions are almost imperative\n",
    "   * Пх'нглуи мглв'нафх Ктулху Р'льех вгах'нагл фхтагн! \n",
    "   \n",
    "   \n",
    "   \n",
    " * Regularize to prevent overfitting\n",
    "   * Add some L2 weight norm to the loss function, theano will do the rest\n",
    "   * Can be done manually or via - http://lasagne.readthedocs.org/en/latest/modules/regularization.html\n",
    "   \n",
    "   \n",
    "   \n",
    " * Better optimization - rmsprop, nesterov_momentum, adadelta, adagrad and so on.\n",
    "   * Converge faster and sometimes reach better optima\n",
    "   * It might make sense to tweak learning rate, other learning parameters, batch size and number of epochs\n",
    "   \n",
    "   \n",
    "   \n",
    " * Dropout - to prevent overfitting\n",
    "   * `lasagne.layers.DropoutLayer(prev_layer, p=probability_to_zero_out)`\n",
    "   \n",
    "   \n",
    "   \n",
    " * Convolution layers\n",
    "   * `network = lasagne.layers.Conv2DLayer(prev_layer,`\n",
    "    `                       num_filters = n_neurons,`\n",
    "    `                        filter_size = (filter width, filter height),`\n",
    "    `                        nonlinearity = some_nonlinearity)`\n",
    "   * Warning! Training convolutional networks can take long without GPU.\n",
    "     * If you are CPU-only, we still recomment to try a simple convolutional architecture\n",
    "     * a perfect option is if you can set it up to run at nighttime and check it up at the morning.\n",
    " \n",
    " * Plenty other layers and architectures\n",
    "   * http://lasagne.readthedocs.org/en/latest/modules/layers.html\n",
    "   * batch normalization, pooling, etc\n",
    "   \n",
    "   \n",
    " * Nonlinearities in the hidden layers\n",
    "   * tanh, relu, leaky relu, etc\n",
    "   \n",
    " \n",
    " \n",
    "   \n",
    "There is a template for your solution below that you can opt to use or throw away and write it your way"
   ]
  },
  {
   "cell_type": "code",
   "execution_count": 284,
   "metadata": {
    "collapsed": false,
    "deletable": true,
    "editable": true
   },
   "outputs": [
    {
     "name": "stdout",
     "output_type": "stream",
     "text": [
      "(50000, 1, 28, 28) (50000,)\n"
     ]
    }
   ],
   "source": [
    "from mnist import load_dataset\n",
    "X_train,y_train,X_val,y_val,X_test,y_test = load_dataset()\n",
    "\n",
    "print(X_train.shape,y_train.shape)"
   ]
  },
  {
   "cell_type": "code",
   "execution_count": 502,
   "metadata": {
    "collapsed": false,
    "deletable": true,
    "editable": true
   },
   "outputs": [
    {
     "data": {
      "text/plain": [
       "<matplotlib.image.AxesImage at 0x7f0be8001978>"
      ]
     },
     "execution_count": 502,
     "metadata": {},
     "output_type": "execute_result"
    },
    {
     "data": {
      "image/png": "[encoded data removed]",
      "text/plain": [
       "<matplotlib.figure.Figure at 0x7f0bdfb414e0>"
      ]
     },
     "metadata": {},
     "output_type": "display_data"
    }
   ],
   "source": [
    "plt.imshow(rotate(X_train[110, 0], angle=1))"
   ]
  },
  {
   "cell_type": "code",
   "execution_count": 47,
   "metadata": {
    "collapsed": true,
    "deletable": true,
    "editable": true
   },
   "outputs": [],
   "source": [
    "import lasagne\n",
    "\n",
    "input_X = T.tensor4(\"X\")\n",
    "\n",
    "#input dimention (None means \"Arbitrary\" and only works at  the first axes [samples])\n",
    "input_shape = [None,1,28,28]\n",
    "\n",
    "target_y = T.vector(\"target Y integer\",dtype='int32')"
   ]
  },
  {
   "cell_type": "code",
   "execution_count": 653,
   "metadata": {
    "collapsed": true,
    "deletable": true,
    "editable": true
   },
   "outputs": [],
   "source": [
    "# Input layer (auxilary)\n",
    "input_layer = lasagne.layers.InputLayer(shape = input_shape,input_var=input_X)\n",
    "\n",
    "# conv block\n",
    "conv3 = lasagne.layers.Conv2DLayer(\n",
    "    input_layer, num_filters=8,\n",
    "    filter_size=(3, 3), nonlinearity=lasagne.nonlinearities.rectify,\n",
    "    pad='same',\n",
    ")\n",
    "conv5 = lasagne.layers.Conv2DLayer(\n",
    "    input_layer, num_filters=4,\n",
    "    filter_size=(5, 5), nonlinearity=lasagne.nonlinearities.rectify,\n",
    "    pad='same',\n",
    ")\n",
    "\n",
    "network = lasagne.layers.ConcatLayer([conv3, conv5])\n",
    "network = lasagne.layers.Pool2DLayer(network, pool_size=(2, 2), ignore_border=False)\n",
    "network = lasagne.layers.BatchNormLayer(network)\n",
    "\n",
    "# conv block\n",
    "network = lasagne.layers.Conv2DLayer(\n",
    "    network, num_filters=16,\n",
    "    filter_size=(3, 3), nonlinearity=lasagne.nonlinearities.rectify,\n",
    "    #pad='same',\n",
    ")\n",
    "network = lasagne.layers.Pool2DLayer(network, pool_size=(2, 2), ignore_border=True)\n",
    "network = lasagne.layers.BatchNormLayer(network)\n",
    "\n",
    "# output\n",
    "network = lasagne.layers.DenseLayer(\n",
    "    network, num_units=10,\n",
    "    nonlinearity=lasagne.nonlinearities.softmax,\n",
    "    name='output')"
   ]
  },
  {
   "cell_type": "code",
   "execution_count": 654,
   "metadata": {
    "collapsed": true,
    "deletable": true,
    "editable": true
   },
   "outputs": [],
   "source": [
    "# Network predictions (theano-transformation)\n",
    "y_predicted = lasagne.layers.get_output(network)"
   ]
  },
  {
   "cell_type": "code",
   "execution_count": 655,
   "metadata": {
    "collapsed": false,
    "deletable": true,
    "editable": true
   },
   "outputs": [
    {
     "name": "stdout",
     "output_type": "stream",
     "text": [
      "[W, b, W, b, beta, gamma, W, b, beta, gamma, output.W, output.b]\n"
     ]
    }
   ],
   "source": [
    "#All weights (shared-varaibles)\n",
    "# \"trainable\" flag means not to return auxilary params like batch mean (for batch normalization)\n",
    "all_weights = lasagne.layers.get_all_params(network,trainable=True)\n",
    "print (all_weights)"
   ]
  },
  {
   "cell_type": "code",
   "execution_count": 656,
   "metadata": {
    "collapsed": true,
    "deletable": true,
    "editable": true
   },
   "outputs": [],
   "source": [
    "loss = lasagne.objectives.categorical_crossentropy(y_predicted,target_y).mean()\\\n",
    "       + T.sum([(x ** 2).sum() for x in all_weights]) * 10 ** -5\n",
    "\n",
    "#prediction accuracy\n",
    "accuracy = lasagne.objectives.categorical_accuracy(y_predicted,target_y).mean()\n",
    "\n",
    "updates = lasagne.updates.adam(loss, all_weights,learning_rate=0.001)"
   ]
  },
  {
   "cell_type": "code",
   "execution_count": 657,
   "metadata": {
    "collapsed": true,
    "deletable": true,
    "editable": true
   },
   "outputs": [],
   "source": [
    "#A function that accepts X and y, returns loss functions and performs weight updates\n",
    "train_fun = theano.function([input_X,target_y],[loss,accuracy],updates=updates)\n",
    "\n",
    "#A function that just computes accuracy given X and y\n",
    "accuracy_fun = theano.function([input_X,target_y],accuracy)"
   ]
  },
  {
   "cell_type": "code",
   "execution_count": 658,
   "metadata": {
    "collapsed": false,
    "deletable": true,
    "editable": true
   },
   "outputs": [
    {
     "data": {
      "text/plain": [
       "(50000,)"
      ]
     },
     "execution_count": 658,
     "metadata": {},
     "output_type": "execute_result"
    }
   ],
   "source": [
    "y_train.shape"
   ]
  },
  {
   "cell_type": "code",
   "execution_count": 659,
   "metadata": {
    "collapsed": true,
    "deletable": true,
    "editable": true
   },
   "outputs": [],
   "source": [
    "def train_model(num_epochs, batch_size):\n",
    "    for epoch in range(num_epochs):\n",
    "        # In each epoch, we do a full pass over the training data:\n",
    "        train_err = 0\n",
    "        train_acc = 0\n",
    "        train_batches = 0\n",
    "        start_time = time.time()\n",
    "        for index, batch in enumerate(iterate_minibatches(X_train, y_train,batch_size, roll=True)):\n",
    "            # print('batch_num=', index)\n",
    "            inputs, targets = batch\n",
    "            train_err_batch, train_acc_batch= train_fun(inputs, targets)\n",
    "            train_err += train_err_batch\n",
    "            train_acc += train_acc_batch\n",
    "            train_batches += 1\n",
    "\n",
    "        # And a full pass over the validation data:\n",
    "        val_acc = 0\n",
    "        val_batches = 0\n",
    "        for batch in iterate_minibatches(X_val, y_val, batch_size):\n",
    "            inputs, targets = batch\n",
    "            val_acc += accuracy_fun(inputs, targets)\n",
    "            val_batches += 1\n",
    "\n",
    "\n",
    "        # Then we print the results for this epoch:\n",
    "        print(\"Epoch {} of {} took {:.3f}s\".format(\n",
    "            epoch + 1, num_epochs, time.time() - start_time))\n",
    "\n",
    "        print(\"  training loss (in-iteration):\\t\\t{:.6f}\".format(train_err / train_batches))\n",
    "        print(\"  train accuracy:\\t\\t{:.2f} %\".format(\n",
    "            train_acc / train_batches * 100))\n",
    "        print(\"  validation accuracy:\\t\\t{:.2f} %\".format(\n",
    "            val_acc / val_batches * 100))    "
   ]
  },
  {
   "cell_type": "code",
   "execution_count": 660,
   "metadata": {
    "collapsed": false,
    "deletable": true,
    "editable": true,
    "scrolled": true
   },
   "outputs": [
    {
     "name": "stdout",
     "output_type": "stream",
     "text": [
      "Epoch 1 of 100 took 26.323s\n",
      "  training loss (in-iteration):\t\t0.662212\n",
      "  train accuracy:\t\t80.21 %\n",
      "  validation accuracy:\t\t95.05 %\n",
      "Epoch 2 of 100 took 26.151s\n",
      "  training loss (in-iteration):\t\t0.177241\n",
      "  train accuracy:\t\t95.04 %\n",
      "  validation accuracy:\t\t97.25 %\n",
      "Epoch 3 of 100 took 25.647s\n",
      "  training loss (in-iteration):\t\t0.117433\n",
      "  train accuracy:\t\t96.61 %\n",
      "  validation accuracy:\t\t97.66 %\n",
      "Epoch 4 of 100 took 24.571s\n",
      "  training loss (in-iteration):\t\t0.081947\n",
      "  train accuracy:\t\t97.65 %\n",
      "  validation accuracy:\t\t98.04 %\n",
      "Epoch 5 of 100 took 25.612s\n",
      "  training loss (in-iteration):\t\t0.077182\n",
      "  train accuracy:\t\t97.71 %\n",
      "  validation accuracy:\t\t98.14 %\n",
      "Epoch 6 of 100 took 25.393s\n",
      "  training loss (in-iteration):\t\t0.062749\n",
      "  train accuracy:\t\t98.16 %\n",
      "  validation accuracy:\t\t98.33 %\n",
      "Epoch 7 of 100 took 25.284s\n",
      "  training loss (in-iteration):\t\t0.053088\n",
      "  train accuracy:\t\t98.51 %\n",
      "  validation accuracy:\t\t98.42 %\n",
      "Epoch 8 of 100 took 25.823s\n",
      "  training loss (in-iteration):\t\t0.048547\n",
      "  train accuracy:\t\t98.61 %\n",
      "  validation accuracy:\t\t98.51 %\n",
      "Epoch 9 of 100 took 26.276s\n",
      "  training loss (in-iteration):\t\t0.041029\n",
      "  train accuracy:\t\t98.84 %\n",
      "  validation accuracy:\t\t98.54 %\n",
      "Epoch 10 of 100 took 25.733s\n",
      "  training loss (in-iteration):\t\t0.037573\n",
      "  train accuracy:\t\t98.97 %\n",
      "  validation accuracy:\t\t98.52 %\n",
      "Epoch 11 of 100 took 26.214s\n",
      "  training loss (in-iteration):\t\t0.035461\n",
      "  train accuracy:\t\t98.98 %\n",
      "  validation accuracy:\t\t98.58 %\n",
      "Epoch 12 of 100 took 25.673s\n",
      "  training loss (in-iteration):\t\t0.033436\n",
      "  train accuracy:\t\t99.05 %\n",
      "  validation accuracy:\t\t98.56 %\n",
      "Epoch 13 of 100 took 25.164s\n",
      "  training loss (in-iteration):\t\t0.033724\n",
      "  train accuracy:\t\t99.03 %\n",
      "  validation accuracy:\t\t98.61 %\n",
      "Epoch 14 of 100 took 27.268s\n",
      "  training loss (in-iteration):\t\t0.036868\n",
      "  train accuracy:\t\t98.96 %\n",
      "  validation accuracy:\t\t98.60 %\n",
      "Epoch 15 of 100 took 25.828s\n",
      "  training loss (in-iteration):\t\t0.031315\n",
      "  train accuracy:\t\t99.12 %\n",
      "  validation accuracy:\t\t98.67 %\n",
      "Epoch 16 of 100 took 25.733s\n",
      "  training loss (in-iteration):\t\t0.026051\n",
      "  train accuracy:\t\t99.30 %\n",
      "  validation accuracy:\t\t98.64 %\n",
      "Epoch 17 of 100 took 25.477s\n",
      "  training loss (in-iteration):\t\t0.022897\n",
      "  train accuracy:\t\t99.43 %\n",
      "  validation accuracy:\t\t98.70 %\n",
      "Epoch 18 of 100 took 25.896s\n",
      "  training loss (in-iteration):\t\t0.021124\n",
      "  train accuracy:\t\t99.47 %\n",
      "  validation accuracy:\t\t98.65 %\n",
      "Epoch 19 of 100 took 25.094s\n",
      "  training loss (in-iteration):\t\t0.019532\n",
      "  train accuracy:\t\t99.51 %\n",
      "  validation accuracy:\t\t98.71 %\n",
      "Epoch 20 of 100 took 25.556s\n",
      "  training loss (in-iteration):\t\t0.019932\n",
      "  train accuracy:\t\t99.52 %\n",
      "  validation accuracy:\t\t98.71 %\n",
      "Epoch 21 of 100 took 25.600s\n",
      "  training loss (in-iteration):\t\t0.017787\n",
      "  train accuracy:\t\t99.57 %\n",
      "  validation accuracy:\t\t98.72 %\n",
      "Epoch 22 of 100 took 25.160s\n",
      "  training loss (in-iteration):\t\t0.017550\n",
      "  train accuracy:\t\t99.58 %\n",
      "  validation accuracy:\t\t98.69 %\n",
      "Epoch 23 of 100 took 26.188s\n",
      "  training loss (in-iteration):\t\t0.015317\n",
      "  train accuracy:\t\t99.64 %\n",
      "  validation accuracy:\t\t98.71 %\n",
      "Epoch 24 of 100 took 25.656s\n",
      "  training loss (in-iteration):\t\t0.015338\n",
      "  train accuracy:\t\t99.66 %\n",
      "  validation accuracy:\t\t98.74 %\n",
      "Epoch 25 of 100 took 25.482s\n",
      "  training loss (in-iteration):\t\t0.021521\n",
      "  train accuracy:\t\t99.48 %\n",
      "  validation accuracy:\t\t98.81 %\n",
      "Epoch 26 of 100 took 25.579s\n",
      "  training loss (in-iteration):\t\t0.020788\n",
      "  train accuracy:\t\t99.47 %\n",
      "  validation accuracy:\t\t98.73 %\n",
      "Epoch 27 of 100 took 25.306s\n",
      "  training loss (in-iteration):\t\t0.013378\n",
      "  train accuracy:\t\t99.73 %\n",
      "  validation accuracy:\t\t98.75 %\n",
      "Epoch 28 of 100 took 24.650s\n",
      "  training loss (in-iteration):\t\t0.013921\n",
      "  train accuracy:\t\t99.70 %\n",
      "  validation accuracy:\t\t98.77 %\n",
      "Epoch 29 of 100 took 25.007s\n",
      "  training loss (in-iteration):\t\t0.030162\n",
      "  train accuracy:\t\t99.25 %\n",
      "  validation accuracy:\t\t98.77 %\n",
      "Epoch 30 of 100 took 25.080s\n",
      "  training loss (in-iteration):\t\t0.019406\n",
      "  train accuracy:\t\t99.51 %\n",
      "  validation accuracy:\t\t98.79 %\n",
      "Epoch 31 of 100 took 24.022s\n",
      "  training loss (in-iteration):\t\t0.012779\n",
      "  train accuracy:\t\t99.76 %\n",
      "  validation accuracy:\t\t98.85 %\n",
      "Epoch 32 of 100 took 23.993s\n",
      "  training loss (in-iteration):\t\t0.009196\n",
      "  train accuracy:\t\t99.85 %\n",
      "  validation accuracy:\t\t98.78 %\n",
      "Epoch 33 of 100 took 25.497s\n",
      "  training loss (in-iteration):\t\t0.016221\n",
      "  train accuracy:\t\t99.65 %\n",
      "  validation accuracy:\t\t98.79 %\n",
      "Epoch 34 of 100 took 25.830s\n",
      "  training loss (in-iteration):\t\t0.009347\n",
      "  train accuracy:\t\t99.83 %\n",
      "  validation accuracy:\t\t98.86 %\n",
      "Epoch 35 of 100 took 24.902s\n",
      "  training loss (in-iteration):\t\t0.008198\n",
      "  train accuracy:\t\t99.90 %\n",
      "  validation accuracy:\t\t98.79 %\n",
      "Epoch 36 of 100 took 26.061s\n",
      "  training loss (in-iteration):\t\t0.009482\n",
      "  train accuracy:\t\t99.86 %\n",
      "  validation accuracy:\t\t98.83 %\n",
      "Epoch 37 of 100 took 25.512s\n",
      "  training loss (in-iteration):\t\t0.009587\n",
      "  train accuracy:\t\t99.85 %\n",
      "  validation accuracy:\t\t98.80 %\n",
      "Epoch 38 of 100 took 24.700s\n",
      "  training loss (in-iteration):\t\t0.011705\n",
      "  train accuracy:\t\t99.76 %\n",
      "  validation accuracy:\t\t98.84 %\n",
      "Epoch 39 of 100 took 25.547s\n",
      "  training loss (in-iteration):\t\t0.007157\n",
      "  train accuracy:\t\t99.90 %\n",
      "  validation accuracy:\t\t98.82 %\n",
      "Epoch 40 of 100 took 25.287s\n",
      "  training loss (in-iteration):\t\t0.008406\n",
      "  train accuracy:\t\t99.89 %\n",
      "  validation accuracy:\t\t98.68 %\n",
      "Epoch 41 of 100 took 25.818s\n",
      "  training loss (in-iteration):\t\t0.013801\n",
      "  train accuracy:\t\t99.72 %\n",
      "  validation accuracy:\t\t98.84 %\n",
      "Epoch 42 of 100 took 25.839s\n",
      "  training loss (in-iteration):\t\t0.011685\n",
      "  train accuracy:\t\t99.75 %\n",
      "  validation accuracy:\t\t98.75 %\n",
      "Epoch 43 of 100 took 25.793s\n",
      "  training loss (in-iteration):\t\t0.016223\n",
      "  train accuracy:\t\t99.67 %\n",
      "  validation accuracy:\t\t98.79 %\n",
      "Epoch 44 of 100 took 26.073s\n",
      "  training loss (in-iteration):\t\t0.007096\n",
      "  train accuracy:\t\t99.90 %\n",
      "  validation accuracy:\t\t98.83 %\n",
      "Epoch 45 of 100 took 26.402s\n",
      "  training loss (in-iteration):\t\t0.006770\n",
      "  train accuracy:\t\t99.93 %\n",
      "  validation accuracy:\t\t98.82 %\n",
      "Epoch 46 of 100 took 26.316s\n",
      "  training loss (in-iteration):\t\t0.008553\n",
      "  train accuracy:\t\t99.87 %\n",
      "  validation accuracy:\t\t98.78 %\n",
      "Epoch 47 of 100 took 26.263s\n",
      "  training loss (in-iteration):\t\t0.005017\n",
      "  train accuracy:\t\t99.96 %\n",
      "  validation accuracy:\t\t98.87 %\n",
      "Epoch 48 of 100 took 26.105s\n",
      "  training loss (in-iteration):\t\t0.006439\n",
      "  train accuracy:\t\t99.92 %\n",
      "  validation accuracy:\t\t98.84 %\n",
      "Epoch 49 of 100 took 25.981s\n",
      "  training loss (in-iteration):\t\t0.006969\n",
      "  train accuracy:\t\t99.91 %\n",
      "  validation accuracy:\t\t98.79 %\n",
      "Epoch 50 of 100 took 24.746s\n",
      "  training loss (in-iteration):\t\t0.013525\n",
      "  train accuracy:\t\t99.72 %\n",
      "  validation accuracy:\t\t98.76 %\n",
      "Epoch 51 of 100 took 25.236s\n",
      "  training loss (in-iteration):\t\t0.007820\n",
      "  train accuracy:\t\t99.87 %\n",
      "  validation accuracy:\t\t98.86 %\n",
      "Epoch 52 of 100 took 25.712s\n",
      "  training loss (in-iteration):\t\t0.009434\n",
      "  train accuracy:\t\t99.85 %\n",
      "  validation accuracy:\t\t98.78 %\n",
      "Epoch 53 of 100 took 25.941s\n",
      "  training loss (in-iteration):\t\t0.007213\n",
      "  train accuracy:\t\t99.90 %\n",
      "  validation accuracy:\t\t98.87 %\n",
      "Epoch 54 of 100 took 26.034s\n",
      "  training loss (in-iteration):\t\t0.007165\n",
      "  train accuracy:\t\t99.88 %\n",
      "  validation accuracy:\t\t98.84 %\n",
      "Epoch 55 of 100 took 25.956s\n",
      "  training loss (in-iteration):\t\t0.009515\n",
      "  train accuracy:\t\t99.80 %\n",
      "  validation accuracy:\t\t98.87 %\n",
      "Epoch 56 of 100 took 26.337s\n",
      "  training loss (in-iteration):\t\t0.007446\n",
      "  train accuracy:\t\t99.87 %\n",
      "  validation accuracy:\t\t98.85 %\n",
      "Epoch 57 of 100 took 25.330s\n",
      "  training loss (in-iteration):\t\t0.004475\n",
      "  train accuracy:\t\t99.96 %\n",
      "  validation accuracy:\t\t98.87 %\n",
      "Epoch 58 of 100 took 26.059s\n",
      "  training loss (in-iteration):\t\t0.008173\n",
      "  train accuracy:\t\t99.86 %\n",
      "  validation accuracy:\t\t98.92 %\n",
      "Epoch 59 of 100 took 24.914s\n",
      "  training loss (in-iteration):\t\t0.008241\n",
      "  train accuracy:\t\t99.86 %\n",
      "  validation accuracy:\t\t98.79 %\n",
      "Epoch 60 of 100 took 25.864s\n",
      "  training loss (in-iteration):\t\t0.004406\n",
      "  train accuracy:\t\t99.97 %\n",
      "  validation accuracy:\t\t98.88 %\n",
      "Epoch 61 of 100 took 25.371s\n",
      "  training loss (in-iteration):\t\t0.004423\n",
      "  train accuracy:\t\t99.96 %\n",
      "  validation accuracy:\t\t98.86 %\n",
      "Epoch 62 of 100 took 25.301s\n",
      "  training loss (in-iteration):\t\t0.003312\n",
      "  train accuracy:\t\t99.99 %\n",
      "  validation accuracy:\t\t98.86 %\n",
      "Epoch 63 of 100 took 24.993s\n",
      "  training loss (in-iteration):\t\t0.003232\n",
      "  train accuracy:\t\t99.99 %\n",
      "  validation accuracy:\t\t98.86 %\n",
      "Epoch 64 of 100 took 25.772s\n",
      "  training loss (in-iteration):\t\t0.005435\n",
      "  train accuracy:\t\t99.93 %\n",
      "  validation accuracy:\t\t98.81 %\n",
      "Epoch 65 of 100 took 25.349s\n",
      "  training loss (in-iteration):\t\t0.012924\n",
      "  train accuracy:\t\t99.74 %\n",
      "  validation accuracy:\t\t98.76 %\n",
      "Epoch 66 of 100 took 25.789s\n",
      "  training loss (in-iteration):\t\t0.010351\n",
      "  train accuracy:\t\t99.77 %\n",
      "  validation accuracy:\t\t98.82 %\n",
      "Epoch 67 of 100 took 25.360s\n",
      "  training loss (in-iteration):\t\t0.007376\n",
      "  train accuracy:\t\t99.86 %\n",
      "  validation accuracy:\t\t98.84 %\n",
      "Epoch 68 of 100 took 25.285s\n",
      "  training loss (in-iteration):\t\t0.006522\n",
      "  train accuracy:\t\t99.89 %\n",
      "  validation accuracy:\t\t98.92 %\n",
      "Epoch 69 of 100 took 25.600s\n",
      "  training loss (in-iteration):\t\t0.007505\n",
      "  train accuracy:\t\t99.87 %\n",
      "  validation accuracy:\t\t98.86 %\n",
      "Epoch 70 of 100 took 25.582s\n",
      "  training loss (in-iteration):\t\t0.003898\n",
      "  train accuracy:\t\t99.98 %\n",
      "  validation accuracy:\t\t98.84 %\n",
      "Epoch 71 of 100 took 25.948s\n",
      "  training loss (in-iteration):\t\t0.005473\n",
      "  train accuracy:\t\t99.92 %\n",
      "  validation accuracy:\t\t98.84 %\n",
      "Epoch 72 of 100 took 25.806s\n",
      "  training loss (in-iteration):\t\t0.006444\n",
      "  train accuracy:\t\t99.91 %\n",
      "  validation accuracy:\t\t98.89 %\n",
      "Epoch 73 of 100 took 26.241s\n",
      "  training loss (in-iteration):\t\t0.003974\n",
      "  train accuracy:\t\t99.97 %\n",
      "  validation accuracy:\t\t98.95 %\n",
      "Epoch 74 of 100 took 25.304s\n",
      "  training loss (in-iteration):\t\t0.008943\n",
      "  train accuracy:\t\t99.83 %\n",
      "  validation accuracy:\t\t98.86 %\n",
      "Epoch 75 of 100 took 25.579s\n",
      "  training loss (in-iteration):\t\t0.007463\n",
      "  train accuracy:\t\t99.86 %\n",
      "  validation accuracy:\t\t98.91 %\n",
      "Epoch 76 of 100 took 25.037s\n",
      "  training loss (in-iteration):\t\t0.004336\n",
      "  train accuracy:\t\t99.97 %\n",
      "  validation accuracy:\t\t98.86 %\n",
      "Epoch 77 of 100 took 26.179s\n",
      "  training loss (in-iteration):\t\t0.006814\n",
      "  train accuracy:\t\t99.90 %\n",
      "  validation accuracy:\t\t98.87 %\n",
      "Epoch 78 of 100 took 24.624s\n",
      "  training loss (in-iteration):\t\t0.006880\n",
      "  train accuracy:\t\t99.89 %\n",
      "  validation accuracy:\t\t98.87 %\n",
      "Epoch 79 of 100 took 25.469s\n",
      "  training loss (in-iteration):\t\t0.004860\n",
      "  train accuracy:\t\t99.95 %\n",
      "  validation accuracy:\t\t98.75 %\n",
      "Epoch 80 of 100 took 25.171s\n",
      "  training loss (in-iteration):\t\t0.005520\n",
      "  train accuracy:\t\t99.92 %\n",
      "  validation accuracy:\t\t98.88 %\n",
      "Epoch 81 of 100 took 25.611s\n",
      "  training loss (in-iteration):\t\t0.006245\n",
      "  train accuracy:\t\t99.91 %\n",
      "  validation accuracy:\t\t98.84 %\n",
      "Epoch 82 of 100 took 25.406s\n",
      "  training loss (in-iteration):\t\t0.003884\n",
      "  train accuracy:\t\t99.97 %\n",
      "  validation accuracy:\t\t98.83 %\n",
      "Epoch 83 of 100 took 25.176s\n",
      "  training loss (in-iteration):\t\t0.003117\n",
      "  train accuracy:\t\t99.98 %\n",
      "  validation accuracy:\t\t98.91 %\n",
      "Epoch 84 of 100 took 25.689s\n",
      "  training loss (in-iteration):\t\t0.005465\n",
      "  train accuracy:\t\t99.93 %\n",
      "  validation accuracy:\t\t98.86 %\n",
      "Epoch 85 of 100 took 25.452s\n",
      "  training loss (in-iteration):\t\t0.011164\n",
      "  train accuracy:\t\t99.76 %\n",
      "  validation accuracy:\t\t98.75 %\n",
      "Epoch 86 of 100 took 25.590s\n",
      "  training loss (in-iteration):\t\t0.006671\n",
      "  train accuracy:\t\t99.89 %\n",
      "  validation accuracy:\t\t98.87 %\n",
      "Epoch 87 of 100 took 25.835s\n",
      "  training loss (in-iteration):\t\t0.004936\n",
      "  train accuracy:\t\t99.94 %\n",
      "  validation accuracy:\t\t98.91 %\n",
      "Epoch 88 of 100 took 25.265s\n",
      "  training loss (in-iteration):\t\t0.008609\n",
      "  train accuracy:\t\t99.86 %\n",
      "  validation accuracy:\t\t98.79 %\n",
      "Epoch 89 of 100 took 25.315s\n",
      "  training loss (in-iteration):\t\t0.004693\n",
      "  train accuracy:\t\t99.95 %\n",
      "  validation accuracy:\t\t98.88 %\n",
      "Epoch 90 of 100 took 24.672s\n",
      "  training loss (in-iteration):\t\t0.004610\n",
      "  train accuracy:\t\t99.94 %\n",
      "  validation accuracy:\t\t98.94 %\n",
      "Epoch 91 of 100 took 25.798s\n",
      "  training loss (in-iteration):\t\t0.010129\n",
      "  train accuracy:\t\t99.79 %\n",
      "  validation accuracy:\t\t98.78 %\n",
      "Epoch 92 of 100 took 25.879s\n",
      "  training loss (in-iteration):\t\t0.005598\n",
      "  train accuracy:\t\t99.91 %\n",
      "  validation accuracy:\t\t98.89 %\n",
      "Epoch 93 of 100 took 25.909s\n",
      "  training loss (in-iteration):\t\t0.003491\n",
      "  train accuracy:\t\t99.98 %\n",
      "  validation accuracy:\t\t98.87 %\n",
      "Epoch 94 of 100 took 25.793s\n",
      "  training loss (in-iteration):\t\t0.005317\n",
      "  train accuracy:\t\t99.93 %\n",
      "  validation accuracy:\t\t98.86 %\n",
      "Epoch 95 of 100 took 25.905s\n",
      "  training loss (in-iteration):\t\t0.005626\n",
      "  train accuracy:\t\t99.92 %\n",
      "  validation accuracy:\t\t98.84 %\n",
      "Epoch 96 of 100 took 25.556s\n",
      "  training loss (in-iteration):\t\t0.005428\n",
      "  train accuracy:\t\t99.92 %\n",
      "  validation accuracy:\t\t98.81 %\n",
      "Epoch 97 of 100 took 25.665s\n",
      "  training loss (in-iteration):\t\t0.007893\n",
      "  train accuracy:\t\t99.87 %\n",
      "  validation accuracy:\t\t98.81 %\n",
      "Epoch 98 of 100 took 25.019s\n",
      "  training loss (in-iteration):\t\t0.004625\n",
      "  train accuracy:\t\t99.95 %\n",
      "  validation accuracy:\t\t98.89 %\n",
      "Epoch 99 of 100 took 25.609s\n",
      "  training loss (in-iteration):\t\t0.004457\n",
      "  train accuracy:\t\t99.95 %\n",
      "  validation accuracy:\t\t98.90 %\n",
      "Epoch 100 of 100 took 26.147s\n",
      "  training loss (in-iteration):\t\t0.004147\n",
      "  train accuracy:\t\t99.97 %\n",
      "  validation accuracy:\t\t98.90 %\n"
     ]
    }
   ],
   "source": [
    "#итерации обучения\n",
    "\n",
    "num_epochs = 100\n",
    "\n",
    "batch_size = 500\n",
    "\n",
    "train_model(num_epochs=num_epochs, batch_size=batch_size)"
   ]
  },
  {
   "cell_type": "code",
   "execution_count": 661,
   "metadata": {
    "collapsed": false,
    "deletable": true,
    "editable": true
   },
   "outputs": [
    {
     "name": "stdout",
     "output_type": "stream",
     "text": [
      "Final results:\n",
      "  test accuracy:\t\t99.01 %\n",
      "Achievement unlocked: 80lvl Warlock!\n"
     ]
    }
   ],
   "source": [
    "test_acc = 0\n",
    "test_batches = 0\n",
    "for batch in iterate_minibatches(X_test, y_test, 500):\n",
    "    inputs, targets = batch\n",
    "    acc = accuracy_fun(inputs, targets)\n",
    "    test_acc += acc\n",
    "    test_batches += 1\n",
    "    \n",
    "print(\"Final results:\")\n",
    "print(\"  test accuracy:\\t\\t{:.2f} %\".format(\n",
    "    test_acc / test_batches * 100))\n",
    "\n",
    "if test_acc / test_batches * 100 > 99:\n",
    "    print (\"Achievement unlocked: 80lvl Warlock!\")\n",
    "else:\n",
    "    print (\"We need more magic!\")"
   ]
  },
  {
   "cell_type": "markdown",
   "metadata": {
    "deletable": true,
    "editable": true
   },
   "source": [
    "Report\n",
    "\n",
    "All creative approaches are highly welcome, but at the very least it would be great to mention\n",
    "* the idea;\n",
    "* brief history of tweaks and improvements;\n",
    "* what is the final architecture and why?\n",
    "* what is the training method and, again, why?\n",
    "* Any regularizations and other techniques applied and their effects;\n",
    "\n",
    "\n",
    "There is no need to write strict mathematical proofs (unless you want to).\n",
    " * \"I tried this, this and this, and the second one turned out to be better. And i just didn't like the name of that one\" - OK, but can be better\n",
    " * \"I have analized these and these articles|sources|blog posts, tried that and that to adapt them to my problem and the conclusions are such and such\" - the ideal one\n",
    " * \"I took that code that demo without understanding it, but i'll never confess that and instead i'll make up some pseudoscientific explaination\" - __not_ok__"
   ]
  },
  {
   "cell_type": "markdown",
   "metadata": {
    "deletable": true,
    "editable": true
   },
   "source": [
    "### Hi, my name is `Alexey Syromyatnikov`, and here's my story\n",
    "\n",
    "A long ago in a galaxy far far away, when it was still more than an hour before deadline, i got an idea:\n",
    "\n",
    "##### Сначала\n",
    "я проверил нейросеть, состоящую из одного свёрточного блока (свёртка, пулинг, батчнорм) и полносвязного слоя перед выходным слоем. Почему? Потому что такая сеть проста, но всё ещё похожа на успешные большие свёрточные нейросети типа VGG, Alexnet etc.\n",
    "Такая модель давала 98.4%\n",
    "\n",
    "##### Потом \n",
    "был некоторый ряд экспериментов, где я менял различные параметры сети (краткий пересказ ниже). Я исследовал относительно простые сети, которые обучались быстро (менее минуты на эпоху). Это было нужно затем, чтобы покрутить максимальное число параметров (и потому что это было 9 марта).\n",
    "\n",
    "##### В итоге\n",
    "была выбрана архитектура, которую можно увидеть в вышестоящих клетках. Два свёрточных блока и полносвязный для вывода ответа, первый свёрточный содержит два типа свёрток (3х3 и 5х5). Также была использована аугментация обучающей выборки при генерации батчей (сдвиги и повороты).\n",
    "\n",
    "That, having wasted one day [minutes, hours or days] of my life training, got\n",
    "\n",
    "* accuracy on training: 99.97%\n",
    "* accuracy on validation: 98.90%\n",
    "* accuracy on test: 99.01%"
   ]
  },
  {
   "cell_type": "markdown",
   "metadata": {
    "deletable": true,
    "editable": true
   },
   "source": [
    "** Лог обучения **"
   ]
  },
  {
   "cell_type": "markdown",
   "metadata": {
    "deletable": true,
    "editable": true
   },
   "source": [
    "Погрешность измерения качества 0.1%"
   ]
  },
  {
   "cell_type": "markdown",
   "metadata": {
    "deletable": true,
    "editable": true
   },
   "source": [
    "Один блок (свёртка5(10 каналов)-пулинг2-батчнорм) + полносвязный 50 + дропаут 0.1   \n",
    "\n",
    "Батч 1000\n",
    "\n",
    "98.38% за 20 эпох \n"
   ]
  },
  {
   "cell_type": "markdown",
   "metadata": {
    "deletable": true,
    "editable": true
   },
   "source": [
    "То же самое, но вместо ReLU LeakyReLU\n",
    "\n",
    "98.31 за 20 эпох"
   ]
  },
  {
   "cell_type": "markdown",
   "metadata": {
    "deletable": true,
    "editable": true
   },
   "source": [
    "Поменял дропаут на 0.3\n",
    "\n",
    "98.24 за 40 эпох"
   ]
  },
  {
   "cell_type": "markdown",
   "metadata": {
    "deletable": true,
    "editable": true
   },
   "source": [
    "* (свёртка5(10 каналов)-пулинг2-батчнорм)\n",
    "* (свёртка3(15 каналов)-пулинг2-батчнорм) \n",
    "* полносвязный 50\n",
    "* дропаут 0.1   \n",
    "\n",
    "Батч 1000\n",
    "\n",
    "98.26% за 20 эпох \n"
   ]
  },
  {
   "cell_type": "markdown",
   "metadata": {
    "deletable": true,
    "editable": true
   },
   "source": [
    "* (свёртка5(5 каналов)-пулинг2-батчнорм)\n",
    "* (свёртка3(15 каналов)-пулинг2-батчнорм) \n",
    "* полносвязный 50\n",
    "* дропаут 0.1   \n",
    "* полносвязный 10\n",
    "* дропаут 0.1   \n",
    "\n",
    "Батч 1000\n",
    "\n",
    "97.44% за 20 эпох \n"
   ]
  },
  {
   "cell_type": "markdown",
   "metadata": {
    "deletable": true,
    "editable": true
   },
   "source": [
    "* local дропаут 0.1   \n",
    "* (свёртка5(5 каналов)-пулинг2-батчнорм)\n",
    "* local дропаут 0.1   \n",
    "* (свёртка3(15 каналов)-пулинг2-батчнорм) \n",
    "* полносвязный 10\n",
    "* дропаут 0.1   \n",
    "\n",
    "Батч 1000\n",
    "\n",
    "96.11% за 20 эпох \n"
   ]
  },
  {
   "cell_type": "markdown",
   "metadata": {
    "deletable": true,
    "editable": true
   },
   "source": [
    "* (свёртка5(10 каналов)-пулинг2-батчнорм)\n",
    "* (свёртка3(15 каналов)-пулинг2-батчнорм) \n",
    "* полносвязный 50\n",
    "* дропаут 0.1   \n",
    "\n",
    "Батч 1000\n",
    "\n",
    "98.18% за 20 эпох \n"
   ]
  },
  {
   "cell_type": "markdown",
   "metadata": {
    "deletable": true,
    "editable": true
   },
   "source": [
    "То же самое, но вернул ReLU вместо LeakyReLU\n",
    "\n",
    "98.29% за 20 эпох"
   ]
  },
  {
   "cell_type": "markdown",
   "metadata": {
    "deletable": true,
    "editable": true
   },
   "source": [
    "То же самое, но вычел 0.5 из X\n",
    "\n",
    "98.04% за 20 эпох"
   ]
  },
  {
   "cell_type": "markdown",
   "metadata": {
    "deletable": true,
    "editable": true
   },
   "source": [
    "То же самое, не вычитал 0.5 из X, добавил l2 регуляризацию с весом $10^{-5}$\n",
    "\n",
    "98.13% за 20 эпох"
   ]
  },
  {
   "cell_type": "markdown",
   "metadata": {
    "deletable": true,
    "editable": true
   },
   "source": [
    "* (свёртка3(10 каналов)-пулинг2-батчнорм)\n",
    "* (свёртка3(10 каналов)-пулинг2-батчнорм)\n",
    "* (свёртка3(15 каналов)-пулинг2-батчнорм) \n",
    "* полносвязный 50\n",
    "* дропаут 0.1   \n",
    "\n",
    "Батч 1000\n",
    "\n",
    "98.15% за 20 эпох \n"
   ]
  },
  {
   "cell_type": "markdown",
   "metadata": {
    "deletable": true,
    "editable": true
   },
   "source": [
    "* (свёртка3(10 каналов)-пулинг2-батчнорм)\n",
    "* (свёртка3(20 каналов)-пулинг2-батчнорм)\n",
    "* (свёртка3(30 каналов)-пулинг2-батчнорм) \n",
    "* полносвязный 50\n",
    "* дропаут 0.1   \n",
    "\n",
    "Батч 1000\n",
    "\n",
    "98.36% за 20 эпох \n"
   ]
  },
  {
   "cell_type": "markdown",
   "metadata": {
    "deletable": true,
    "editable": true
   },
   "source": [
    "* (свёртка3(10 каналов)-пулинг2-батчнорм)\n",
    "* (свёртка3(20 каналов)-пулинг2-батчнорм)\n",
    "* (свёртка3(30 каналов)-пулинг2-батчнорм) \n",
    "* полносвязный 50\n",
    "* дропаут 0.1   \n",
    "* полносвязный 50\n",
    "* дропаут 0.1   \n",
    "\n",
    "Батч 1000\n",
    "\n",
    "98.20% за 20 эпох \n"
   ]
  },
  {
   "cell_type": "markdown",
   "metadata": {
    "deletable": true,
    "editable": true
   },
   "source": [
    "* (свёртка3(10 каналов)-пулинг2-батчнорм)\n",
    "* (свёртка3(20 каналов)-пулинг2-батчнорм)\n",
    "* (свёртка3(30 каналов)-пулинг2-батчнорм) \n",
    "\n",
    "Батч 1000\n",
    "\n",
    "98.22% за 20 эпох \n",
    "\n",
    "Обучается быстрее и быстрее доходит до насыщения, когда меньше полносвязных слоёв"
   ]
  },
  {
   "cell_type": "markdown",
   "metadata": {
    "deletable": true,
    "editable": true
   },
   "source": [
    "* (свёртка3(10 каналов)-пулинг2-батчнорм)\n",
    "* (свёртка3(20 каналов)-пулинг2-батчнорм)\n",
    "* (свёртка3(30 каналов)-пулинг2-батчнорм) \n",
    "* полносвязный 50\n",
    "* дропаут 0.1   \n",
    "\n",
    "Батч 500 + аугментация сдвигом\n",
    "\n",
    "98.62% за 100 эпох "
   ]
  },
  {
   "cell_type": "markdown",
   "metadata": {
    "deletable": true,
    "editable": true
   },
   "source": [
    "* (свёртка3(10 каналов)-пулинг2-батчнорм)\n",
    "* (свёртка3(20 каналов)-пулинг2-батчнорм)\n",
    "* (свёртка3(30 каналов)-пулинг2-батчнорм) \n",
    "* полносвязный 50\n",
    "* дропаут 0.1   \n",
    "\n",
    "* Батч 500\n",
    "* аугментация сдвигом\n",
    "* rmsprop вместо adam\n",
    "\n",
    "98.6% за 50 эпох "
   ]
  },
  {
   "cell_type": "markdown",
   "metadata": {
    "deletable": true,
    "editable": true
   },
   "source": [
    "* (свёртка3(10 каналов)-пулинг2-батчнорм)\n",
    "* (свёртка3(20 каналов)-пулинг2-батчнорм)\n",
    "* (свёртка3(30 каналов)-пулинг2-батчнорм) \n",
    "* полносвязный 50\n",
    "* дропаут 0.1   \n",
    "\n",
    "\n",
    "* Батч 500 \n",
    "* аугментация сдвигом\n",
    "* l2 $10^{-4}$\n",
    "\n",
    "98.3% за 50 эпох "
   ]
  },
  {
   "cell_type": "markdown",
   "metadata": {
    "deletable": true,
    "editable": true
   },
   "source": [
    "* (свёртка3(10 каналов)-пулинг2-батчнорм)\n",
    "* (свёртка3(20 каналов)-пулинг2-батчнорм)\n",
    "* (свёртка3(30 каналов)-пулинг2(stride1)-батчнорм) \n",
    "* полносвязный 50\n",
    "* дропаут 0.1   \n",
    "\n",
    "\n",
    "* Батч 500\n",
    "* аугментация сдвигом\n",
    "\n",
    "98.25% за 50 эпох "
   ]
  },
  {
   "cell_type": "markdown",
   "metadata": {
    "deletable": true,
    "editable": true
   },
   "source": [
    "Тут некоторые эксперименты, одна эпоха которых проходит слишком долго, что мне становится лень ждать"
   ]
  },
  {
   "cell_type": "markdown",
   "metadata": {
    "deletable": true,
    "editable": true
   },
   "source": [
    "Я решил упороться и ~~сделать свой GoogleNet~~ соединить свёртки 3х3 и 5х5 на первом уровне. Так как времени мало, я в итоге стал использовать малое число каналов."
   ]
  },
  {
   "cell_type": "code",
   "execution_count": 406,
   "metadata": {
    "collapsed": true,
    "deletable": true,
    "editable": true
   },
   "outputs": [],
   "source": [
    "# Input layer (auxilary)\n",
    "input_layer = lasagne.layers.InputLayer(shape = input_shape,input_var=input_X)\n",
    "\n",
    "# conv block\n",
    "conv3 = lasagne.layers.Conv2DLayer(\n",
    "    input_layer, num_filters=4,\n",
    "    filter_size=(3, 3), nonlinearity=lasagne.nonlinearities.rectify,\n",
    "    pad='same',\n",
    ")\n",
    "conv5 = lasagne.layers.Conv2DLayer(\n",
    "    input_layer, num_filters=4,\n",
    "    filter_size=(5, 5), nonlinearity=lasagne.nonlinearities.rectify,\n",
    "    pad='same',\n",
    ")\n",
    "network = lasagne.layers.ConcatLayer([conv3, conv5])\n",
    "network = lasagne.layers.Pool2DLayer(network, pool_size=(2, 2), ignore_border=False)\n",
    "network = lasagne.layers.BatchNormLayer(network)\n",
    "\n",
    "# conv block\n",
    "network = lasagne.layers.Conv2DLayer(\n",
    "    network, num_filters=8,\n",
    "    filter_size=(3, 3), nonlinearity=lasagne.nonlinearities.rectify,\n",
    "    #pad='same',\n",
    ")\n",
    "network = lasagne.layers.Pool2DLayer(network, pool_size=(2, 2), ignore_border=True)\n",
    "network = lasagne.layers.BatchNormLayer(network)\n",
    "\n",
    "# dense block\n",
    "\n",
    "#network = lasagne.layers.DenseLayer(\n",
    "#network, num_units=50,\n",
    "#   nonlinearity = lasagne.nonlinearities.rectify,\n",
    "#)\n",
    "#network = lasagne.layers.DropoutLayer(network, p=0.1)\n",
    "\n",
    "# output\n",
    "network = lasagne.layers.DenseLayer(\n",
    "    network, num_units=10,\n",
    "    nonlinearity=lasagne.nonlinearities.softmax,\n",
    "    name='output')"
   ]
  },
  {
   "cell_type": "markdown",
   "metadata": {
    "deletable": true,
    "editable": true
   },
   "source": [
    "Вот это вот (что выше), даёт 98.6%. Более того, ошибка на трейне и на валидации примерно одинаковая, то есть кажется, что модель слабо переобучается из-за относительно малого числа параметров."
   ]
  },
  {
   "cell_type": "markdown",
   "metadata": {
    "deletable": true,
    "editable": true
   },
   "source": [
    "Увеличил число каналов во втором блоке до 16 и получил 98.8%"
   ]
  },
  {
   "cell_type": "markdown",
   "metadata": {
    "deletable": true,
    "editable": true
   },
   "source": [
    "Увеличил число каналов в первом блоке в свёртке 3х3 до 8 и получил 98.9%"
   ]
  },
  {
   "cell_type": "markdown",
   "metadata": {
    "deletable": true,
    "editable": true
   },
   "source": [
    "* Аугментация теперь и с поворотами\n",
    "* 70 эпох с lr=0.001 и 20 эпох с lr=0.0001\n",
    "\n",
    "Получил 98.85%"
   ]
  },
  {
   "cell_type": "markdown",
   "metadata": {
    "deletable": true,
    "editable": true
   },
   "source": [
    "Вместо adam использовал rmsprop и получил 98.7%"
   ]
  },
  {
   "cell_type": "markdown",
   "metadata": {
    "deletable": true,
    "editable": true
   },
   "source": [
    "Вернул adam, уменьшил вес у регуляризации до $10^{-6}$ и получил 98.8%"
   ]
  }
 ],
 "metadata": {
  "kernelspec": {
   "display_name": "Python 3",
   "language": "python",
   "name": "python3"
  },
  "language_info": {
   "codemirror_mode": {
    "name": "ipython",
    "version": 3
   },
   "file_extension": ".py",
   "mimetype": "text/x-python",
   "name": "python",
   "nbconvert_exporter": "python",
   "pygments_lexer": "ipython3",
   "version": "3.4.3"
  }
 },
 "nbformat": 4,
 "nbformat_minor": 0
}
